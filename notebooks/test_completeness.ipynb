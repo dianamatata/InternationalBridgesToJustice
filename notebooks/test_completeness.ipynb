{
 "cells": [
  {
   "cell_type": "markdown",
   "id": "78f6f1883f83f3cf",
   "metadata": {},
   "source": [
    "# Notebook to test the completeness check functionality of the IBJ project.\n",
    "\n",
    "Test on Burundi, 3rd country most visited and critical on human rights issues."
   ]
  },
  {
   "cell_type": "code",
   "execution_count": 2,
   "id": "initial_id",
   "metadata": {
    "ExecuteTime": {
     "end_time": "2025-06-05T12:43:35.968076Z",
     "start_time": "2025-06-05T12:43:35.963712Z"
    }
   },
   "outputs": [],
   "source": [
    "# LIBRARIES ---------------------------------------------------\n",
    "import os\n",
    "os.chdir('/Users/dianaavalos/PycharmProjects/InternationalBridgesToJustice')\n",
    "import json\n",
    "from pprint import pprint\n",
    "from src.internationalbridgestojustice.config import Paths\n",
    "from src.internationalbridgestojustice.openai_utils import openai_client\n",
    "from src.internationalbridgestojustice.chromadb_utils import load_collection\n",
    "from src.internationalbridgestojustice.get_completeness import KeypointEvaluation\n",
    "from src.internationalbridgestojustice.file_manager import get_country_names"
   ]
  },
  {
   "cell_type": "markdown",
   "id": "f76d592824220607",
   "metadata": {},
   "source": "Load the prompt and system prompt for the completeness check."
  },
  {
   "cell_type": "code",
   "execution_count": 3,
   "id": "7fd1b1385626505d",
   "metadata": {
    "ExecuteTime": {
     "end_time": "2025-06-05T12:43:36.012122Z",
     "start_time": "2025-06-05T12:43:36.006845Z"
    }
   },
   "outputs": [],
   "source": [
    "with open(Paths.PATH_FILE_PROMPT_COMPLETENESS, \"r\") as file:\n",
    "    prompt_completeness = file.read()\n",
    "\n",
    "with open(Paths.PATH_FILE_SYSTEM_PROMPT_COMPLETENESS, \"r\") as file:\n",
    "    system_prompt = file.read()\n",
    "\n",
    "print(prompt_completeness[:1000])"
   ]
  },
  {
   "cell_type": "code",
   "execution_count": 4,
   "id": "83d4ed4184beb9ad",
   "metadata": {
    "ExecuteTime": {
     "end_time": "2025-06-05T12:43:36.018541Z",
     "start_time": "2025-06-05T12:43:36.015249Z"
    }
   },
   "outputs": [
    {
     "name": "stdout",
     "output_type": "stream",
     "text": [
      "You are a critical legal analyst tasked with evaluating whether a legal wiki chapter adequately addresses a specific legal keypoint. \n",
      "Your response must be precise, structured, and based on legal reasoning. \n",
      "When relevant, cite and summarize laws from the provided legal database. \n",
      "Avoid vague language and clearly distinguish between complete, partial, or missing legal coverage.\n",
      "\n"
     ]
    }
   ],
   "source": [
    "print(system_prompt)"
   ]
  },
  {
   "cell_type": "code",
   "execution_count": 5,
   "id": "27dc6c5fa5fd3f77",
   "metadata": {
    "ExecuteTime": {
     "end_time": "2025-06-05T12:43:36.037791Z",
     "start_time": "2025-06-05T12:43:36.032032Z"
    }
   },
   "outputs": [
    {
     "name": "stdout",
     "output_type": "stream",
     "text": [
      "[{'Description': 'This section provides an overview of the legal aid landscape '\n",
      "                 'within the country, specifically detailing the total number '\n",
      "                 'of practicing lawyers categorized by their specialization in '\n",
      "                 'criminal and civil law, if such data is available.',\n",
      "  'Keypoint': '1. Introduction: 3. The legal aid situation in the country: 3. '\n",
      "              'Number of lawyers (criminal/civil) if known'},\n",
      " {'Description': 'This section aims to explore and identify the various legal '\n",
      "                 'foundations and sources that establish and protect the '\n",
      "                 'rights of defendants in a legal context.',\n",
      "  'Keypoint': '1. Introduction: 4. Sources of defendant’s rights?'},\n",
      " {'Description': \"This section introduces the topic of defendant's rights and \"\n",
      "                 'specifically focuses on the national legal frameworks and '\n",
      "                 'constitutional provisions that establish and protect these '\n",
      "                 'rights within a given jurisdiction.',\n",
      "  'Keypoint': '1. Introduction: 4. Sources of defendant’s rights?: 1. National '\n",
      "              'Sources of Defendant’s rights'}]\n"
     ]
    }
   ],
   "source": [
    "with open(Paths.PATH_JSON_FILE_DESCRIPTIVE_COMPLETENESS_KEYPOINTS, \"r\") as file:\n",
    "        completeness_keypoints = json.load(file)    \n",
    "pprint(completeness_keypoints[5:8])"
   ]
  },
  {
   "cell_type": "code",
   "execution_count": 6,
   "id": "dbc33f40811ecdfc",
   "metadata": {
    "ExecuteTime": {
     "end_time": "2025-06-05T12:43:36.284334Z",
     "start_time": "2025-06-05T12:43:36.060385Z"
    }
   },
   "outputs": [
    {
     "name": "stderr",
     "output_type": "stream",
     "text": [
      "/Users/dianaavalos/PycharmProjects/pythonProject/.venv/lib/python3.9/site-packages/urllib3/__init__.py:35: NotOpenSSLWarning: urllib3 v2 only supports OpenSSL 1.1.1+, currently the 'ssl' module is compiled with 'LibreSSL 2.8.3'. See: https://github.com/urllib3/urllib3/issues/3020\n",
      "  warnings.warn(\n"
     ]
    }
   ],
   "source": [
    "collection = load_collection(Paths.PATH_CHROMADB, Paths.COLLECTION_NAME)"
   ]
  },
  {
   "cell_type": "markdown",
   "id": "eae973ed2fec8bdf",
   "metadata": {},
   "source": "Print the keypoints to check for completeness."
  },
  {
   "cell_type": "code",
   "execution_count": 7,
   "id": "9c716be136aa394",
   "metadata": {
    "ExecuteTime": {
     "end_time": "2025-06-05T12:43:36.296604Z",
     "start_time": "2025-06-05T12:43:36.286636Z"
    }
   },
   "outputs": [
    {
     "data": {
      "text/plain": [
       "<KeypointEvaluation(Burundi, 2. Rights of the Accused: 2. Right Against Unlawful Detention...)>"
      ]
     },
     "execution_count": 7,
     "metadata": {},
     "output_type": "execute_result"
    }
   ],
   "source": [
    "country_names = get_country_names(country_names_filepath=\"data/interim/country_names_1.txt\")\n",
    "country = \"Burundi\"\n",
    "keypoint = completeness_keypoints[10]\n",
    "evaluation = KeypointEvaluation(country=country, keypoint=keypoint, system_prompt=system_prompt, model=\"gpt-4o-mini\", collection=collection, lazy=True)\n",
    "evaluation"
   ]
  },
  {
   "cell_type": "code",
   "execution_count": 8,
   "id": "7aed84249c0544d7",
   "metadata": {
    "ExecuteTime": {
     "end_time": "2025-06-05T12:43:46.730034Z",
     "start_time": "2025-06-05T12:43:36.298787Z"
    }
   },
   "outputs": [
    {
     "name": "stdout",
     "output_type": "stream",
     "text": [
      "## **Completeness Instructions**\n",
      "\n",
      "You are tasked with evaluating whether the following wiki chapter sufficiently and accurately addresses the key point: **2. Rights of the Accused: 2. Right Against Unlawful Detention** , with is best describe as: **The accused individuals have the fundamental right to be free from detention that is not legally justified or authorized, ensuring their protection against arbitrary imprisonment.**.\n",
      "\n",
      "Before making your judgment, critically analyze **both** the wiki content and the legal database. Even if the chapter appears thorough, investigate whether specific legal provisions could **strengthen, clarify, or correct** the information. Your assessment should prioritize **clarity, specificity**, and **legal accuracy**.\n",
      "\n",
      "---\n",
      "\n",
      "### **Classification Categories**\n",
      "\n",
      "Choose **one** of the following categories:\n",
      "\n",
      "* **Complete**:\n",
      "  The chapter clearly addresses the key point with sufficient legal detail, citing **specific laws or articles**, and outlining relevant **r\n"
     ]
    }
   ],
   "source": [
    "evaluation.run_similarity_searches(collection=collection)\n",
    "evaluation.define_prompt(prompt_template=prompt_completeness)\n",
    "print(evaluation.prompt [:1000])"
   ]
  },
  {
   "cell_type": "code",
   "execution_count": 9,
   "id": "dbdb20b59cadc6b",
   "metadata": {
    "ExecuteTime": {
     "end_time": "2025-06-05T12:43:54.521656Z",
     "start_time": "2025-06-05T12:43:46.732949Z"
    }
   },
   "outputs": [],
   "source": [
    "evaluation.check_completeness(client=openai_client, temperature=0.1)"
   ]
  },
  {
   "cell_type": "code",
   "execution_count": 10,
   "id": "be9a66e9443546f0",
   "metadata": {
    "ExecuteTime": {
     "end_time": "2025-06-05T12:43:54.529761Z",
     "start_time": "2025-06-05T12:43:54.523313Z"
    }
   },
   "outputs": [
    {
     "name": "stdout",
     "output_type": "stream",
     "text": [
      "{'Classification': 'Needs Refinement',\n",
      " 'Country': 'Burundi',\n",
      " 'Keypoint': '2. Right Against Unlawful Detention',\n",
      " 'Keypoint_Description': 'The accused individuals have the fundamental right '\n",
      "                         'to be free from detention that is not legally '\n",
      "                         'justified or authorized, ensuring their protection '\n",
      "                         'against arbitrary imprisonment.',\n",
      " 'Legal_Provisions_Check': 'Present',\n",
      " 'Missing_or_Unclear': 'The chapter does not explicitly address the right '\n",
      "                       'against unlawful detention as a standalone right. '\n",
      "                       'While it mentions related rights, it lacks a clear '\n",
      "                       'definition and specific legal references that directly '\n",
      "                       'support the right against unlawful detention. The '\n",
      "                       'relevant legal provisions from the database are not '\n",
      "                       'cited, which would strengthen the legal grounding of '\n",
      "                       'the chapter.',\n",
      " 'Rewritten_Wiki_Chapter': '### The Right Against Unlawful Detention\\n'\n",
      "                           '\\n'\n",
      "                           'The right against unlawful detention is a '\n",
      "                           'fundamental principle that protects individuals '\n",
      "                           'from being detained without legal justification. '\n",
      "                           'This right is enshrined in **Article 39** of the '\n",
      "                           '**Constitution of Burundi**, which states that no '\n",
      "                           'one may be deprived of their freedom unless it '\n",
      "                           'conforms to the provisions of law. This ensures '\n",
      "                           'that any detention must be legally justified and '\n",
      "                           'authorized, safeguarding individuals from '\n",
      "                           'arbitrary imprisonment.\\n'\n",
      "                           '\\n'\n",
      "                           'Additionally, **Article 23** emphasizes that no '\n",
      "                           'one may be treated in an arbitrary manner by the '\n",
      "                           'State or its organs, further reinforcing the '\n",
      "                           'protection against unlawful detention. Victims of '\n",
      "                           'arbitrary actions by the State are entitled to '\n",
      "                           \"compensation, highlighting the State's obligation \"\n",
      "                           'to uphold this right.\\n'\n",
      "                           '\\n'\n",
      "                           'Moreover, **Article 25** guarantees the right to '\n",
      "                           'personal freedom and prohibits any form of torture '\n",
      "                           'or cruel, inhuman, or degrading treatment, which '\n",
      "                           'is essential in the context of detention.\\n'\n",
      "                           '\\n'\n",
      "                           'In summary, the right against unlawful detention '\n",
      "                           'is a critical component of the legal framework in '\n",
      "                           'Burundi, ensuring that individuals are protected '\n",
      "                           'from arbitrary imprisonment and that any detention '\n",
      "                           'must adhere to established legal standards.',\n",
      " 'Summary_of_Relevant_Laws': '1. **Article 39**: Establishes that no one may '\n",
      "                             'be deprived of their freedom unless it conforms '\n",
      "                             'to the law, ensuring that detention is legally '\n",
      "                             'justified. This article is crucial as it '\n",
      "                             'directly relates to the right against unlawful '\n",
      "                             'detention. 2. **Article 23**: Prohibits '\n",
      "                             'arbitrary treatment by the State, reinforcing '\n",
      "                             'the protection against unlawful detention. 3. '\n",
      "                             '**Article 25**: Affirms the right to personal '\n",
      "                             'freedom and prohibits torture or inhumane '\n",
      "                             'treatment, which is relevant to the broader '\n",
      "                             'context of unlawful detention.'}\n"
     ]
    }
   ],
   "source": [
    "# evaluation.answer = json.loads(evaluation.answer) #loads the str into a dict # done in check_completeness now\n",
    "pprint(evaluation.answer)"
   ]
  },
  {
   "cell_type": "markdown",
   "id": "a397e3c4772f228a",
   "metadata": {},
   "source": "Save answer and log info"
  },
  {
   "cell_type": "code",
   "execution_count": 11,
   "id": "263639486d9ef2f6",
   "metadata": {
    "ExecuteTime": {
     "end_time": "2025-06-05T12:43:54.538798Z",
     "start_time": "2025-06-05T12:43:54.533342Z"
    }
   },
   "outputs": [],
   "source": [
    "evaluation.save_answer_as_json()\n",
    "evaluation.save_log_as_json()"
   ]
  },
  {
   "cell_type": "markdown",
   "id": "ceae92da1f300bdd",
   "metadata": {},
   "source": "## Now we want to do exactly this in batches per country with all keypoints."
  },
  {
   "cell_type": "code",
   "execution_count": 13,
   "id": "1408520ffe4facba",
   "metadata": {
    "ExecuteTime": {
     "end_time": "2025-06-04T15:12:10.096735Z",
     "start_time": "2025-06-04T15:12:10.092492Z"
    }
   },
   "outputs": [],
   "source": [
    "request = evaluation.build_batch_request(\n",
    "    custom_id=f\"{country}-{keypoint}\",\n",
    "    user_prompt=evaluation.prompt,\n",
    "    temperature=0.1\n",
    ")"
   ]
  },
  {
   "cell_type": "code",
   "execution_count": null,
   "id": "4a60bcd0dbcd2823",
   "metadata": {},
   "outputs": [],
   "source": []
  },
  {
   "cell_type": "code",
   "execution_count": 14,
   "id": "265c5159750f1c8a",
   "metadata": {
    "ExecuteTime": {
     "end_time": "2025-06-04T15:12:10.104217Z",
     "start_time": "2025-06-04T15:12:10.099685Z"
    }
   },
   "outputs": [],
   "source": [
    "jsonl_file_completeness_batch = f\"{Paths.PATH_FOLDER_COMPLETENESS}/batch_input_1.jsonl\"\n",
    "with open(jsonl_file_completeness_batch, \"a\") as outfile:\n",
    "    outfile.write(json.dumps(request) + \"\\n\")\n"
   ]
  }
 ],
 "metadata": {
  "kernelspec": {
   "display_name": "Python 3",
   "language": "python",
   "name": "python3"
  },
  "language_info": {
   "codemirror_mode": {
    "name": "ipython",
    "version": 2
   },
   "file_extension": ".py",
   "mimetype": "text/x-python",
   "name": "python",
   "nbconvert_exporter": "python",
   "pygments_lexer": "ipython2",
   "version": "2.7.6"
  }
 },
 "nbformat": 4,
 "nbformat_minor": 5
}
