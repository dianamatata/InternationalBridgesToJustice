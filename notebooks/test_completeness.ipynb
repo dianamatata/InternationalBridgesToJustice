{
 "cells": [
  {
   "cell_type": "markdown",
   "id": "78f6f1883f83f3cf",
   "metadata": {},
   "source": [
    "# Notebook to test the completeness check functionality of the IBJ project.\n",
    "\n",
    "Test on Burundi, 3rd country most visited and critical on human rights issues."
   ]
  },
  {
   "cell_type": "code",
   "id": "initial_id",
   "metadata": {
    "ExecuteTime": {
     "end_time": "2025-06-13T13:30:31.922837Z",
     "start_time": "2025-06-13T13:30:31.917348Z"
    }
   },
   "source": [
    "# LIBRARIES ---------------------------------------------------\n",
    "import os\n",
    "os.chdir('/Users/dianaavalos/PycharmProjects/InternationalBridgesToJustice')\n",
    "import json\n",
    "from pprint import pprint\n",
    "from src.internationalbridgestojustice.config import Paths\n",
    "from src.internationalbridgestojustice.openai_utils import openai_client\n",
    "from src.internationalbridgestojustice.chromadb_utils import load_collection\n",
    "from src.internationalbridgestojustice.get_completeness import KeypointEvaluation, schema_completeness\n",
    "from src.internationalbridgestojustice.file_manager import get_country_names"
   ],
   "outputs": [],
   "execution_count": 13
  },
  {
   "cell_type": "markdown",
   "id": "f76d592824220607",
   "metadata": {},
   "source": "Load the prompt and system prompt for the completeness check."
  },
  {
   "cell_type": "code",
   "id": "7fd1b1385626505d",
   "metadata": {
    "ExecuteTime": {
     "end_time": "2025-06-12T09:32:56.802386Z",
     "start_time": "2025-06-12T09:32:56.795901Z"
    }
   },
   "source": [
    "with open(Paths.PATH_FILE_PROMPT_COMPLETENESS, \"r\") as file:\n",
    "    prompt_completeness = file.read()\n",
    "\n",
    "with open(Paths.PATH_FILE_SYSTEM_PROMPT_COMPLETENESS, \"r\") as file:\n",
    "    system_prompt = file.read()\n",
    "\n",
    "print(prompt_completeness[:1000])"
   ],
   "outputs": [
    {
     "name": "stdout",
     "output_type": "stream",
     "text": [
      "## **Completeness Instructions**\n",
      "\n",
      "You are tasked with evaluating whether the following wiki chapter sufficiently and accurately addresses the key point: **{keypoint}** , with is best describe as: **{keypoint_description}**.\n",
      "\n",
      "Before making your judgment, critically analyze **both** the wiki content and the legal database. Even if the chapter appears thorough, investigate whether specific legal provisions could **strengthen, clarify, or correct** the information. Your assessment should prioritize **clarity, specificity**, and **legal accuracy**.\n",
      "\n",
      "---\n",
      "\n",
      "### **Classification Categories**\n",
      "\n",
      "Choose **one** of the following categories:\n",
      "\n",
      "* **Complete**:\n",
      "  The chapter clearly addresses the key point with sufficient legal detail, citing **specific laws or articles**, and outlining relevant **rights, obligations, procedures, and exceptions**. No major improvements are needed based on the legal database.\n",
      "\n",
      "* **Needs Refinement**:\n",
      "  The chapter covers the topic, but lacks one or more of the following:\n"
     ]
    }
   ],
   "execution_count": 2
  },
  {
   "cell_type": "code",
   "id": "83d4ed4184beb9ad",
   "metadata": {
    "ExecuteTime": {
     "end_time": "2025-06-12T09:32:57.088431Z",
     "start_time": "2025-06-12T09:32:57.084323Z"
    }
   },
   "source": [
    "print(system_prompt)"
   ],
   "outputs": [
    {
     "name": "stdout",
     "output_type": "stream",
     "text": [
      "You are a critical legal analyst tasked with evaluating whether a legal wiki chapter adequately addresses a specific legal keypoint. \n",
      "Your response must be precise, structured, and based on legal reasoning. \n",
      "When relevant, cite and summarize laws from the provided legal database. \n",
      "Avoid vague language and clearly distinguish between complete, partial, or missing legal coverage.\n",
      "\n"
     ]
    }
   ],
   "execution_count": 3
  },
  {
   "metadata": {
    "ExecuteTime": {
     "end_time": "2025-06-13T13:30:17.157461Z",
     "start_time": "2025-06-13T13:30:17.111663Z"
    }
   },
   "cell_type": "code",
   "source": [
    "with open(Paths.PATH_JSON_FILE_DESCRIPTIVE_COMPLETENESS_KEYPOINTS, \"r\") as file:\n",
    "        completeness_keypoints = json.load(file)    \n",
    "pprint(completeness_keypoints[5:8])"
   ],
   "id": "cda861db165bc543",
   "outputs": [
    {
     "name": "stdout",
     "output_type": "stream",
     "text": [
      "[{'Description': 'This section provides an overview of the legal aid landscape '\n",
      "                 'within the country, specifically detailing the total number '\n",
      "                 'of practicing lawyers categorized by their specialization in '\n",
      "                 'criminal and civil law, if such data is available.',\n",
      "  'Keypoint': '1. Introduction: 3. The legal aid situation in the country: 3. '\n",
      "              'Number of lawyers (criminal/civil) if known'},\n",
      " {'Description': 'This section aims to explore and identify the various legal '\n",
      "                 'foundations and sources that establish and protect the '\n",
      "                 'rights of defendants in a legal context.',\n",
      "  'Keypoint': '1. Introduction: 4. Sources of defendant’s rights?'},\n",
      " {'Description': \"This section introduces the topic of defendant's rights and \"\n",
      "                 'specifically focuses on the national legal frameworks and '\n",
      "                 'constitutional provisions that establish and protect these '\n",
      "                 'rights within a given jurisdiction.',\n",
      "  'Keypoint': '1. Introduction: 4. Sources of defendant’s rights?: 1. National '\n",
      "              'Sources of Defendant’s rights'}]\n"
     ]
    }
   ],
   "execution_count": 8
  },
  {
   "metadata": {},
   "cell_type": "markdown",
   "source": "Loading collection with translated chunks. so far only Burundi is available.",
   "id": "632ca9748b20e5d4"
  },
  {
   "cell_type": "code",
   "id": "dbc33f40811ecdfc",
   "metadata": {
    "ExecuteTime": {
     "end_time": "2025-06-13T13:30:20.474001Z",
     "start_time": "2025-06-13T13:30:20.435644Z"
    }
   },
   "source": "collection = load_collection(Paths.PATH_CHROMADB_v2, Paths.COLLECTION_NAME_v2)",
   "outputs": [],
   "execution_count": 9
  },
  {
   "cell_type": "markdown",
   "id": "eae973ed2fec8bdf",
   "metadata": {},
   "source": "Print the keypoints to check for completeness."
  },
  {
   "cell_type": "code",
   "id": "9c716be136aa394",
   "metadata": {
    "ExecuteTime": {
     "end_time": "2025-06-13T13:30:21.996565Z",
     "start_time": "2025-06-13T13:30:21.976972Z"
    }
   },
   "source": [
    "country_names = get_country_names(country_names_filepath=\"data/interim/country_names_1.txt\")\n",
    "country = \"Burundi\"\n",
    "keypoint = completeness_keypoints[10]\n",
    "evaluation = KeypointEvaluation(country=country, keypoint=keypoint, system_prompt=system_prompt, model=\"gpt-4o-mini\", collection=collection, lazy=True)\n",
    "evaluation"
   ],
   "outputs": [
    {
     "data": {
      "text/plain": [
       "<KeypointEvaluation(Burundi, 2. Rights of the Accused: 2. Right Against Unlawful Detention...)>"
      ]
     },
     "execution_count": 10,
     "metadata": {},
     "output_type": "execute_result"
    }
   ],
   "execution_count": 10
  },
  {
   "cell_type": "code",
   "id": "7aed84249c0544d7",
   "metadata": {
    "ExecuteTime": {
     "end_time": "2025-06-13T13:30:25.254288Z",
     "start_time": "2025-06-13T13:30:23.596251Z"
    }
   },
   "source": [
    "evaluation.run_similarity_searches(collection=collection)\n",
    "evaluation.define_prompt(prompt_template=prompt_completeness)\n",
    "print(evaluation.prompt [:1000])"
   ],
   "outputs": [
    {
     "name": "stdout",
     "output_type": "stream",
     "text": [
      "## **Completeness Instructions**\n",
      "\n",
      "You are tasked with evaluating whether the following wiki chapter sufficiently and accurately addresses the key point: **2. Rights of the Accused: 2. Right Against Unlawful Detention** , with is best describe as: **The accused individuals have the fundamental right to be free from detention that is not legally justified or authorized, ensuring their protection against arbitrary imprisonment.**.\n",
      "\n",
      "Before making your judgment, critically analyze **both** the wiki content and the legal database. Even if the chapter appears thorough, investigate whether specific legal provisions could **strengthen, clarify, or correct** the information. Your assessment should prioritize **clarity, specificity**, and **legal accuracy**.\n",
      "\n",
      "---\n",
      "\n",
      "### **Classification Categories**\n",
      "\n",
      "Choose **one** of the following categories:\n",
      "\n",
      "* **Complete**:\n",
      "  The chapter clearly addresses the key point with sufficient legal detail, citing **specific laws or articles**, and outlining relevant **r\n"
     ]
    }
   ],
   "execution_count": 11
  },
  {
   "metadata": {
    "ExecuteTime": {
     "end_time": "2025-06-13T13:30:38.534675Z",
     "start_time": "2025-06-13T13:30:38.530573Z"
    }
   },
   "cell_type": "code",
   "source": [
    "evaluation.response_format = {\n",
    "            \"type\": \"json_schema\",\n",
    "            \"json_schema\": {\"name\": \"CompletenessCheck\", \"schema\": schema_completeness},\n",
    "        }"
   ],
   "id": "51b07597b9422c68",
   "outputs": [],
   "execution_count": 14
  },
  {
   "cell_type": "code",
   "id": "dbdb20b59cadc6b",
   "metadata": {
    "ExecuteTime": {
     "end_time": "2025-06-13T13:30:58.214324Z",
     "start_time": "2025-06-13T13:30:40.171696Z"
    }
   },
   "source": [
    "evaluation.check_completeness(client=openai_client, temperature=0.1)"
   ],
   "outputs": [],
   "execution_count": 15
  },
  {
   "cell_type": "code",
   "id": "be9a66e9443546f0",
   "metadata": {
    "ExecuteTime": {
     "end_time": "2025-06-13T13:31:07.681275Z",
     "start_time": "2025-06-13T13:31:07.677472Z"
    }
   },
   "source": [
    "# evaluation.answer = json.loads(evaluation.answer) #loads the str into a dict # done in check_completeness now\n",
    "pprint(evaluation.answer)"
   ],
   "outputs": [
    {
     "name": "stdout",
     "output_type": "stream",
     "text": [
      "{'Classification': 'Needs Refinement',\n",
      " 'Country': 'Burundi',\n",
      " 'Keypoint': '2. Right Against Unlawful Detention',\n",
      " 'Keypoint_Description': 'The accused individuals have the fundamental right '\n",
      "                         'to be free from detention that is not legally '\n",
      "                         'justified or authorized, ensuring their protection '\n",
      "                         'against arbitrary imprisonment.',\n",
      " 'Legal_Provisions_Check': 'Present',\n",
      " 'Missing_or_Unclear': 'The chapter does not explicitly address the right '\n",
      "                       'against unlawful detention, nor does it provide a '\n",
      "                       'clear legal framework or definitions regarding what '\n",
      "                       'constitutes lawful versus unlawful detention. While it '\n",
      "                       'mentions rights related to detention, it lacks a '\n",
      "                       'focused discussion on the legal justifications for '\n",
      "                       'detention and the protections against arbitrary '\n",
      "                       'imprisonment.',\n",
      " 'Rewritten_Wiki_Chapter': '**The Right Against Unlawful Detention**\\n'\n",
      "                           '\\n'\n",
      "                           'The right against unlawful detention is a '\n",
      "                           'fundamental principle enshrined in the '\n",
      "                           'Constitution of Burundi. According to **Article '\n",
      "                           '39**, no individual may be deprived of their '\n",
      "                           'freedom unless it conforms to the provisions of '\n",
      "                           'law. This means that any detention must be legally '\n",
      "                           'justified and authorized by law. Furthermore, '\n",
      "                           '**Article 38** guarantees the right to challenge '\n",
      "                           'any detention, ensuring that individuals can '\n",
      "                           'contest the legality of their imprisonment.\\n'\n",
      "                           '\\n'\n",
      "                           'In addition, **Article 154 of the Code of Criminal '\n",
      "                           'Procedure** reinforces this principle by stating '\n",
      "                           'that freedom is the rule and detention is the '\n",
      "                           'exception. Preventive detention can only be '\n",
      "                           'ordered under specific conditions, such as '\n",
      "                           'preserving evidence or ensuring the accused '\n",
      "                           'remains available to justice. This legal framework '\n",
      "                           'is designed to protect individuals from arbitrary '\n",
      "                           'imprisonment and ensure that any deprivation of '\n",
      "                           'liberty is justified and subject to legal '\n",
      "                           'scrutiny.',\n",
      " 'Summary_of_Relevant_Laws': '1. **Article 39 of the Constitution**: '\n",
      "                             'Establishes that no one may be deprived of their '\n",
      "                             'freedom unless it conforms to the law, '\n",
      "                             'emphasizing that detention must be legally '\n",
      "                             'justified. This article is crucial as it '\n",
      "                             'directly relates to the right against unlawful '\n",
      "                             'detention.\\n'\n",
      "                             '2. **Article 38 of the Constitution**: Provides '\n",
      "                             'the right to challenge detention, which is '\n",
      "                             'essential for protecting against unlawful '\n",
      "                             'imprisonment.\\n'\n",
      "                             '3. **Article 154 of the Code of Criminal '\n",
      "                             'Procedure**: States that freedom is the rule and '\n",
      "                             'detention is the exception, outlining conditions '\n",
      "                             'under which preventive detention can occur, thus '\n",
      "                             'reinforcing the principle against arbitrary '\n",
      "                             'detention.'}\n"
     ]
    }
   ],
   "execution_count": 16
  },
  {
   "cell_type": "markdown",
   "id": "a397e3c4772f228a",
   "metadata": {},
   "source": "Save answer and log info"
  },
  {
   "cell_type": "code",
   "execution_count": 11,
   "id": "263639486d9ef2f6",
   "metadata": {
    "ExecuteTime": {
     "end_time": "2025-06-05T12:43:54.538798Z",
     "start_time": "2025-06-05T12:43:54.533342Z"
    }
   },
   "outputs": [],
   "source": [
    "evaluation.save_answer_as_json()\n",
    "evaluation.save_log_as_json()"
   ]
  }
 ],
 "metadata": {
  "kernelspec": {
   "display_name": "Python 3",
   "language": "python",
   "name": "python3"
  },
  "language_info": {
   "codemirror_mode": {
    "name": "ipython",
    "version": 2
   },
   "file_extension": ".py",
   "mimetype": "text/x-python",
   "name": "python",
   "nbconvert_exporter": "python",
   "pygments_lexer": "ipython2",
   "version": "2.7.6"
  }
 },
 "nbformat": 4,
 "nbformat_minor": 5
}
