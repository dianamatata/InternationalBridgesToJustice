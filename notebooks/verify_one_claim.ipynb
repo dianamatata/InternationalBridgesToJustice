{
 "cells": [
  {
   "metadata": {},
   "cell_type": "markdown",
   "source": "# Verify one claim",
   "id": "cc9818c2f7f5fbd4"
  },
  {
   "metadata": {
    "ExecuteTime": {
     "end_time": "2025-06-11T08:48:00.029602Z",
     "start_time": "2025-06-11T08:48:00.023844Z"
    }
   },
   "cell_type": "code",
   "source": [
    "import os\n",
    "os.chdir('/Users/dianaavalos/PycharmProjects/InternationalBridgesToJustice')\n",
    "import json\n",
    "from src.internationalbridgestojustice.openai_utils import openai_client\n",
    "from src.internationalbridgestojustice.chromadb_utils import (\n",
    "    load_collection,\n",
    "    perform_similarity_search_in_collection,\n",
    ")\n",
    "from src.internationalbridgestojustice.file_manager import (\n",
    "    load_legal_chunks,\n",
    "    build_context_string_from_retrieve_documents,\n",
    ")\n",
    "from src.internationalbridgestojustice.openai_utils import (get_openai_response,openai_client)\n",
    "from src.internationalbridgestojustice.query_functions import (\n",
    "    format_prompt_for_claim_verification,\n",
    "    retrieve_source_titles_from_chunks,\n",
    ")\n",
    "from src.internationalbridgestojustice.config import Paths"
   ],
   "id": "a98fb2648c721665",
   "outputs": [],
   "execution_count": 12
  },
  {
   "metadata": {
    "ExecuteTime": {
     "end_time": "2025-06-11T08:48:59.439281Z",
     "start_time": "2025-06-11T08:48:59.434333Z"
    }
   },
   "cell_type": "code",
   "source": [
    "with open(Paths.PATH_FILE_PROMPT_CLAIM_VERIFICATION, \"r\") as f:\n",
    "    prompt_claim_verification = f.read()\n",
    "\n",
    "print(prompt_claim_verification[:3000])  # Print the first 1000 characters of the prompt"
   ],
   "id": "39b001c92a02be90",
   "outputs": [
    {
     "name": "stdout",
     "output_type": "stream",
     "text": [
      "## **Claim Verification Instructions**\n",
      "\n",
      "You need to determine whether the database contains enough information to fact-check the claim, and then decide whether the claim is **Supported**, **Contradicted**, or **Inconclusive** based on that information. You can cite specific laws or legal chapters to justify your decision.\n",
      "\n",
      "---\n",
      "\n",
      "### Very important:\n",
      "Make sure that the information used for verification comes from the **correct country**.  \n",
      "You can find the country name in the `'metadata':'title'` or `'metadata':'country'` fields of the context.\n",
      "\n",
      "---\n",
      "\n",
      "### Is there enough information?\n",
      "\n",
      "**Does the database provide enough information to fact-check the claim?**\n",
      "\n",
      "- If **no**, label the claim as `###Inconclusive###`\n",
      "- If **yes**, state the judgment as one of the following categories, marked with ###:\n",
      "\n",
      "#### `###Supported###`\n",
      "A claim is **supported** by the database if everything in the claim is supported and nothing is contradicted by the information in the database.  \n",
      "There can be some results that are not fully related to the claim.\n",
      "\n",
      "#### `###Contradicted###`\n",
      "A claim is **contradicted** if some part of it directly conflicts with information in the database, and no supporting evidence is provided for that part.\n",
      "\n",
      "#### `###Inconclusive###`\n",
      "A claim is **inconclusive** if:\n",
      "- A part of the claim cannot be verified with the available information,  \n",
      "- A part of the claim is both supported and contradicted by different sources,  \n",
      "- The claim contains unclear references (e.g., \"the person\", \"the law\", \"they\").\n",
      "\n",
      "---\n",
      "\n",
      "### Input\n",
      "\n",
      "**Claim:**  \n",
      "`{claim}`\n",
      "\n",
      "**Context:**  \n",
      "`{context}`\n",
      "\n"
     ]
    }
   ],
   "execution_count": 14
  },
  {
   "metadata": {
    "ExecuteTime": {
     "end_time": "2025-06-11T09:29:04.351667Z",
     "start_time": "2025-06-11T09:29:04.347762Z"
    }
   },
   "cell_type": "code",
   "source": [
    "with open('data/prompts/system_prompt_claim_verification.md', \"r\") as f:\n",
    "    system_prompt_claim_verification = f.read()\n",
    "\n",
    "print(system_prompt_claim_verification)  "
   ],
   "id": "9aa791eaffeb9ec5",
   "outputs": [
    {
     "name": "stdout",
     "output_type": "stream",
     "text": [
      "You are a helpful assistant who can judge whether a claim is supported or contradicted by the search results, \n",
      "or whether there is no enough information to make a judgement.\n"
     ]
    }
   ],
   "execution_count": 17
  },
  {
   "metadata": {
    "ExecuteTime": {
     "end_time": "2025-06-11T08:44:47.302101Z",
     "start_time": "2025-06-11T08:44:46.275350Z"
    }
   },
   "cell_type": "code",
   "source": [
    "claim_to_verify = (\n",
    "    \"In Burundi, until proven innocent, the accused has to remain in prison.\"\n",
    ")\n",
    "\n",
    "collection = load_collection(\n",
    "    chroma_collection_file_path=Paths.PATH_CHROMADB_v2,\n",
    "    collection_name=Paths.COLLECTION_NAME_v2,\n",
    ")\n",
    "print(f\"Collection contains {collection.count()} documents.\")\n"
   ],
   "id": "77d454bd26f8684d",
   "outputs": [
    {
     "name": "stderr",
     "output_type": "stream",
     "text": [
      "/Users/dianaavalos/PycharmProjects/pythonProject/.venv/lib/python3.9/site-packages/urllib3/__init__.py:35: NotOpenSSLWarning: urllib3 v2 only supports OpenSSL 1.1.1+, currently the 'ssl' module is compiled with 'LibreSSL 2.8.3'. See: https://github.com/urllib3/urllib3/issues/3020\n",
      "  warnings.warn(\n"
     ]
    },
    {
     "name": "stdout",
     "output_type": "stream",
     "text": [
      "Collection contains 1010 documents.\n"
     ]
    }
   ],
   "execution_count": 6
  },
  {
   "metadata": {
    "ExecuteTime": {
     "end_time": "2025-06-11T08:45:00.232804Z",
     "start_time": "2025-06-11T08:44:58.949633Z"
    }
   },
   "cell_type": "code",
   "source": [
    "results = perform_similarity_search_in_collection(\n",
    "    collection=collection,\n",
    "    query_text=claim_to_verify,\n",
    "    metadata_param=\"country\",\n",
    "    metadata_value=\"Burundi\",\n",
    "    number_of_results_to_retrieve=5,\n",
    ")\n",
    "print(results)"
   ],
   "id": "22c7556a6b0de541",
   "outputs": [
    {
     "name": "stdout",
     "output_type": "stream",
     "text": [
      "{'ids': [['fbb5f13cdbe2bffff045f9d9ee8f52fbd36312466e61e5dbf9c038ac6b1de857', '4055b0b548981ef6bc0365fdf9604729a9234850ac5f2af42c8442578a2a6baa', '3a9a6a2ba8bd03e2671881b29c89942f5ce9dbdac556d5cced394c3822351623', '4099a2b9bddbcdd9290c4be1531fd2395ec264fae1bc1e6831d252b99d4fb2db', '8b72dd09364dd9da460e61e8dac296adb421321f0b26dd8b2e9d1824e9089f60']], 'embeddings': None, 'documents': [['However, pending a conviction judgment being rendered res judicata, the presumption of innocence remains in favor of the accused even if in the meantime the latter remains in pre-trial detention.\\n\\nThus, while inviting all actors in the Burundian criminal justice system to respect and enforce, as much as possible, the provisions of the C.P.P, we request that public authorities make available all necessary means to enable the effective implementation of the C.P.P so that the respect for the rights of the person accused of crimes remains a fundamental principle to which Burundian legislation attaches paramount importance.\\n\\n---\\n\\nSee [Burundi](/index.php?title=Burundi \"Burundi\")\\n\\nRetrieved from \"<https://defensewiki.ibj.org/index.php?title=Manuel_sur_les_procédures_d’arrestation_et_de_détention_instituées_par_le_Code_de_Procédure_Pénale_du_Burundi&oldid=7497>\"', 'The Presumption of Innocence\\n-----------------------------\\n\\nIt is clearly affirmed by Article 40 and has two major consequences that should be a guiding principle of defense.\\n\\n* It necessarily opposes the idea of pre-trial detention. In many cases where defendants have little or no guarantees of appearance for judicial oversight, this principle must be reminded to investigating judges who use pre-trial detention as if it were an innocuous measure.\\n* It places the burden of proof (of all proofs) on the prosecution and therefore significantly influences the defense methodology. (See Defense Strategies)\\n\\n---\\n\\nSee  [Petit Manuel de Défense Pénale](/index.php?title=Burundi \"Burundi\")\\n\\nRetrieved from \"<https://defensewiki.ibj.org/index.php?title=Petit_Manuel_de_Défense_Pénale_du_Burundi_-_Principes_Fondamentaux&oldid=7001>\" and not translating the text in the sources and references (articles, links,...)', 'The Rights of the Accused and the Detained\\n===================================\\n\\nA number of fundamental rights and principles prevail at all stages of the procedure, from arrest to final judgment. They are:\\n\\n**The right to be informed of one\\'s rights and the reasons for one\\'s arrest**\\n\\nThe right for any arrested person to be informed of the reasons for their arrest is a procedural guarantee that cannot be subject to any restriction or limitation, at all times and under all circumstances.\\n\\n**The right to be presumed innocent**\\n\\nThe right for any accused and detained person to be presumed innocent is clearly stated in **Article 40** of the **Constitution**, which provides that \"*everyone accused of a criminal act is presumed innocent until their guilt has been legally established during a public trial in which all necessary guarantees for their free defense have been ensured*.\"\\n\\n**The right to be assisted by a lawyer**\\n\\nThe right to be assisted by a lawyer is recognized by the **Code of Criminal Procedure**. Indeed, within **Article 95** of this code, it is stated that \"*the alleged perpetrator of an offense benefits from all necessary guarantees for the exercise of the right to defense. To this end, it is guaranteed to them in particular (...) to choose a Counsel*.\"\\n\\n**The right not to be subjected to torture or to cruel, inhuman, or degrading punishment or treatment**\\n\\nThe **Constitution** recognizes, in **Article 25**, that \"*no one shall be subjected to torture, nor to cruel, inhuman, or degrading punishment or treatment*.\" Thus, the **Constitution** of Burundi prohibits any recourse to torture or to cruel, inhuman, or degrading punishment or treatment. Torture is defined in **Article 204** of the **Penal Code** as corresponding to \"*any act by which severe pain or suffering, whether physical or mental, is intentionally inflicted on a person for the purpose of obtaining from them or a third person information or confessions, punishing them for an act that they or a third person has committed or is suspected of having committed, intimidating or coercing them, or for any other reason based on any form of discrimination, when such pain or suffering is inflicted by a public agent or any other person acting in an official capacity or at their instigation or with their express or tacit consent*.\" Any harm to a person is therefore an illegal act. Any violation will be punished with a sanction. Indeed, according to **Article 205** of the **Penal Code**: \"*whoever subjects a person to torture or other cruel, inhuman, or degrading treatment is punishable by penal servitude of ten to fifteen years and a fine of one hundred thousand to one million francs*.\"', \"satisfy the conditions of Article 154, paragraph 2, the Judge may, if the accused requests it, order that he be released provisionally, on the condition that he deposits with the Clerk, as a bail, a sum of money.\\n\\n-----\\n\\n**www.droit‐afrique.com** **Burundi**\\n\\nThis bail guarantees the appearance of the accused at all stages of the proceedings and his compliance with custodial sentences as soon as required, if applicable, the compensation for damages caused by the offense, the payment of fines, and legal costs.\\n\\n**Art.161.‐ The provisions of the previous article do not apply to:**\\n\\n1° Persons prosecuted for a crime punishable by more than twenty years of imprisonment;\\n\\n2° Persons who have not yet returned the sums of money or any other property obtained through the offense or, failing that, their equivalent;\\n\\n3° Persons prosecuted for sexual violence.\\n\\n**Art.162.‐ The bail is refunded in case of dismissal of the case,** release from detention, withdrawal of the benefit of provisional release, or acquittal.\\n\\nThe refund of the bail deposited during provisional release is ordered by the Public Prosecutor's Officer of the jurisdiction that decided it.\\n\\nIn case of flight, the bail is forfeited to the public treasury, without prejudice to the rights of the civil party and after deducting the costs that the failure to appear may have incurred.\\n\\nThe refund is made by the competent jurisdiction in the case of bail ordered by the judge.\\n\\n**Section 2 ‐ Provisional Release**\\n\\n**Art.163.‐ Provisional release is granted on the condition that the accused does not obstruct** the investigation and does not cause a scandal by his conduct.\\n\\nThe judge may also impose on the accused:\\n\\n- 1° to reside in the locality where the Public Prosecutor's Officer has his seat;\\n\\n- 2° not to stray beyond a certain radius of the locality, without authorization from the investigating magistrate or his delegate;\\n\\n- 3° not to go to places he determines, such as airports, ports, and train stations, or not to be there at specified times;\\n\\n- 4° to periodically present himself before the investigating magistrate or before any official or agent designated by him;\\n\\n- 5° to appear before the investigating magistrate or before the judge as soon as required;\\n\\n- 6° not to contact his victims or other persons he...\", 'The principle of legal certainty requires that this guilt be demonstrated and established with absolute certainty, leaving no room for doubt on the matter. This illustrates the judicial adage upon which a fair system rests: Better to free a hundred guilty than to condemn a single innocent. This is not a choice. It is a legal obligation, much to the chagrin of the ultra-repressive.\\n\\nTherefore, if the Public Prosecutor has not managed to fully establish the guilt of a suspect, that individual must be acquitted. It is in no way the responsibility of the defense to provide any evidence of innocence.\\n\\nIt is evident in practice that the defense fights with elements it believes are capable of demonstrating the defendant\\'s innocence. Of course, one should not refrain from doing so.\\n\\nHowever, it is fundamental to always recall the principle above and to expend considerable energy in demonstrating the shortcomings of the prosecution\\'s case before engaging in the demonstration of innocence.\\n\\nThe opposite is illogical, and yet, this is a reflex we all have, which gradually establishes a practice contrary to the presumption of innocence.\\n\\nLet us remember that it is difficult to provide negative proof (what the accused did not do) and that it is much easier to demonstrate the shortcomings of the prosecution (what it does not demonstrate).\\n\\nLet us therefore state things clearly to the Court and to the accuser, and refuse to allow the belief that an acquittal is granted \"in the benefit of the doubt.\"\\n\\n---\\n\\nSee  [Petit Manuel de Défense Pénale](/index.php?title=Burundi \"Burundi\")\\n\\nRetrieved from \"<https://defensewiki.ibj.org/index.php?title=Petit_Manuel_de_Défense_Pénale_du_Burundi_-_Stratégies_de_Défense&oldid=7007>\" and not translating the text in the sources and references (articles, links,...)']], 'uris': None, 'included': ['documents', 'metadatas', 'distances'], 'data': None, 'metadatas': [[{'chunk_count': 0, 'language': 'en', 'country': 'Burundi', 'title': 'Manuel_sur_les_procedures_darrestation_et_de_detention_instituees_par_le_Code_de_Procedure_Penale_du_Burundi', 'last-edited': '30 November 2010, 14:25', 'link': 'https://defensewiki.ibj.org/index.php?title=Manuel_sur_les_proc%C3%A9dures_d%E2%80%99arrestation_et_de_d%C3%A9tention_institu%C3%A9es_par_le_Code_de_Proc%C3%A9dure_P%C3%A9nale_du_Burundi', 'viewcount': 'This page has been accessed 13,734 times.', 'section_short': 'Toutefois, en attendant qu’un jugement de condamnation', 'type': 'defensewiki_doc', 'extracted': '2025-03-20 20:02:08', 'title_bis': 'defensewiki_doc.Manuel_sur_les_procedures_darrestation_et_de_detention_instituees_par_le_Code_de_Procedure_Penale_du_Burundi.Toutefois, en attendant qu’un jugement de condamnation.0'}, {'section_short': 'La présomption d’innocence', 'language': 'en', 'country': 'Burundi', 'viewcount': 'This page has been accessed 7,217 times.', 'chunk_count': 0, 'last-edited': '15 November 2010, 14:34', 'type': 'defensewiki_doc', 'title': 'Petit_Manuel_de_Defense_Penale_du_Burundi_-_Principes_Fondamentaux', 'title_bis': 'defensewiki_doc.Petit_Manuel_de_Defense_Penale_du_Burundi_-_Principes_Fondamentaux.La présomption d’innocence.0', 'link': 'https://defensewiki.ibj.org/index.php?title=Petit_Manuel_de_D%C3%A9fense_P%C3%A9nale_du_Burundi_-_Principes_Fondamentaux', 'extracted': '2025-03-20 20:01:23'}, {'title_bis': 'defensewiki_doc.Burundi-fr.Les droits de l’accusé et du détenu.0', 'title': 'Burundi-fr', 'chunk_count': 0, 'link': 'https://defensewiki.ibj.org/index.php?title=Burundi/fr', 'type': 'defensewiki_doc', 'last-edited': '24 August 2017, 09:32', 'viewcount': 'This page has been accessed 92,821 times.', 'country': 'Burundi', 'section_short': 'Les droits de l’accusé et du détenu', 'extracted': '2025-03-20 19:56:01', 'language': 'en'}, {'language': 'en', 'website': '', 'legal_type': 'penal_procedure', 'country': 'Burundi', 'legal_relevance': 'national', 'publication_date': '2018-05-11', 'chunk_count': 0, 'title_bis': 'Burundi.satisfaire aux conditions de l’article 154 alinéa.0', 'section_short': 'satisfaire aux conditions de l’article 154 alinéa', 'legal_status': '', 'year': '2018', 'path': 'data/raw/legal_countries_docs_pdfs/Burundi-Code-2018-procedure-penale.pdf', 'filename': 'Burundi-Code-2018-procedure-penale.pdf'}, {'chunk_count': 2, 'viewcount': 'This page has been accessed 13,041 times.', 'last-edited': '15 November 2010, 14:36', 'language': 'en', 'country': 'Burundi', 'title': 'Petit_Manuel_de_Defense_Penale_du_Burundi_-_Strategies_de_Defense', 'extracted': '2025-03-20 20:00:33', 'link': 'https://defensewiki.ibj.org/index.php?title=Petit_Manuel_de_D%C3%A9fense_P%C3%A9nale_du_Burundi_-_Strat%C3%A9gies_de_D%C3%A9fense', 'title_bis': 'defensewiki_doc.Petit_Manuel_de_Defense_Penale_du_Burundi_-_Strategies_de_Defense.Culpabilité admise ou contestée.2', 'section_short': 'Culpabilité admise ou contestée', 'type': 'defensewiki_doc'}]], 'distances': [[0.6695973873138428, 0.7122570872306824, 0.8246705532073975, 0.8255937099456787, 0.8308433294296265]]}\n"
     ]
    }
   ],
   "execution_count": 7
  },
  {
   "metadata": {
    "ExecuteTime": {
     "end_time": "2025-06-11T08:46:12.174862Z",
     "start_time": "2025-06-11T08:46:12.169371Z"
    }
   },
   "cell_type": "code",
   "source": [
    "res_summary = [r[\"title_bis\"] for r in results[\"metadatas\"][0]]\n",
    "print(f\"Titles of chunks selected: {res_summary}\")"
   ],
   "id": "3b351c90fd822b89",
   "outputs": [
    {
     "name": "stdout",
     "output_type": "stream",
     "text": [
      "Titles of chunks selected: ['defensewiki_doc.Manuel_sur_les_procedures_darrestation_et_de_detention_instituees_par_le_Code_de_Procedure_Penale_du_Burundi.Toutefois, en attendant qu’un jugement de condamnation.0', 'defensewiki_doc.Petit_Manuel_de_Defense_Penale_du_Burundi_-_Principes_Fondamentaux.La présomption d’innocence.0', 'defensewiki_doc.Burundi-fr.Les droits de l’accusé et du détenu.0', 'Burundi.satisfaire aux conditions de l’article 154 alinéa.0', 'defensewiki_doc.Petit_Manuel_de_Defense_Penale_du_Burundi_-_Strategies_de_Defense.Culpabilité admise ou contestée.2']\n"
     ]
    }
   ],
   "execution_count": 9
  },
  {
   "metadata": {
    "ExecuteTime": {
     "end_time": "2025-06-11T08:49:03.161819Z",
     "start_time": "2025-06-11T08:49:03.157261Z"
    }
   },
   "cell_type": "code",
   "source": [
    "context_text = build_context_string_from_retrieve_documents(results)\n",
    "\n",
    "prompt_claim_verification_Burundi = format_prompt_for_claim_verification(\n",
    "    prompt_claim_verification, claim=claim_to_verify, context=context_text\n",
    ")"
   ],
   "id": "7c8c8637152e1e09",
   "outputs": [],
   "execution_count": 15
  },
  {
   "metadata": {
    "ExecuteTime": {
     "end_time": "2025-06-11T09:40:25.961608Z",
     "start_time": "2025-06-11T09:40:25.954651Z"
    }
   },
   "cell_type": "code",
   "source": [
    "schema_claim_verification = {\n",
    "    \"type\": \"object\",\n",
    "    \"name\": \"ClaimVerificationResponse\",\n",
    "    \"description\": \"Response to a claim verification request\",\n",
    "    \"properties\": {\n",
    "         \"claim\": {\n",
    "            \"type\": \"string\",\n",
    "            \"description\": \"The initial claim.\",\n",
    "        },\n",
    "        \"decision\": {\n",
    "            \"type\": \"string\",\n",
    "            \"enum\": [\n",
    "                \"Supported\",\n",
    "                \"Contradicted\",\n",
    "                \"Inconclusive\",\n",
    "            ],\n",
    "            \"description\": \"The claim verification decision.\",\n",
    "        },\n",
    "        \"full_answer\": {\n",
    "            \"type\": \"string\",\n",
    "            \"description\": \"Specific laws or legal chapters to justify your decision if applicable (not necessary for Inconclusive).\",\n",
    "        },\n",
    "        \"sources\": {\n",
    "            \"type\": \"array\",\n",
    "            \"items\": {\"type\": \"string\"},\n",
    "            \"description\": \"Chunk titles that support the claim.\",\n",
    "        },\n",
    "        \"document_ids\": {\n",
    "            \"type\": \"array\",\n",
    "            \"items\": {\"type\": \"string\"},\n",
    "            \"description\": \"Chunk hashes that support the claim.\",\n",
    "        },\n",
    "        \"distances\": {\n",
    "            \"type\": \"array\",\n",
    "            \"items\": {\"type\": \"string\"},\n",
    "            \"description\": \"Distances of the chunks that support the claim.\",\n",
    "        },\n",
    "    },\n",
    "    \"required\": [\n",
    "        \"claim\",\n",
    "        \"decision\",\n",
    "        \"sources\",\n",
    "        \"document_ids\",\n",
    "        \"distances\",\n",
    "    ],\n",
    "}"
   ],
   "id": "3781e4e6e345acbd",
   "outputs": [],
   "execution_count": 19
  },
  {
   "metadata": {
    "ExecuteTime": {
     "end_time": "2025-06-11T09:56:49.925406Z",
     "start_time": "2025-06-11T09:56:49.920034Z"
    }
   },
   "cell_type": "code",
   "source": [
    "response_format = {\n",
    "    \"type\": \"json_schema\",\n",
    "    \"json_schema\": {\n",
    "        \"name\": \"ClaimVerificationResponse\",\n",
    "        \"schema\": schema_claim_verification,\n",
    "    },\n",
    "}\n",
    "type(response_format)"
   ],
   "id": "7daa6652865ada45",
   "outputs": [
    {
     "data": {
      "text/plain": [
       "dict"
      ]
     },
     "execution_count": 23,
     "metadata": {},
     "output_type": "execute_result"
    }
   ],
   "execution_count": 23
  },
  {
   "metadata": {
    "ExecuteTime": {
     "end_time": "2025-06-11T09:57:05.255297Z",
     "start_time": "2025-06-11T09:57:02.408697Z"
    }
   },
   "cell_type": "code",
   "source": [
    "answer = get_openai_response(client=openai_client, categorize_system_prompt=system_prompt_claim_verification, prompt=prompt_claim_verification_Burundi, response_format=response_format, model=\"gpt-4o-mini\", temperature=0.1)\n",
    "print(\"\\nOpenAI response:\\n\", answer)"
   ],
   "id": "1e85e0c821887277",
   "outputs": [
    {
     "name": "stdout",
     "output_type": "stream",
     "text": [
      "\n",
      "OpenAI response:\n",
      " {\"claim\":\"In Burundi, until proven innocent, the accused has to remain in prison.\",\"decision\":\"###Contradicted###\",\"full_answer\":\"The presumption of innocence is a fundamental principle in Burundi, as stated in Article 40 of the Constitution, which affirms that everyone accused of a criminal act is presumed innocent until their guilt has been legally established. While pre-trial detention can occur, it is not a requirement that the accused must remain in prison until proven innocent. The context indicates that the presumption of innocence remains in favor of the accused, even if they are in pre-trial detention, which contradicts the claim that they must remain in prison until proven innocent.\",\"sources\":[\"The Presumption of Innocence\",\"The Rights of the Accused and the Detained\"],\"document_ids\":[\"7497\",\"7001\"],\"distances\":[\"0\",\"0\"]}\n"
     ]
    }
   ],
   "execution_count": 24
  },
  {
   "metadata": {
    "ExecuteTime": {
     "end_time": "2025-06-11T09:59:26.188943Z",
     "start_time": "2025-06-11T09:59:26.184756Z"
    }
   },
   "cell_type": "code",
   "source": [
    "with open(\n",
    "    \"data/verified_claims/claims_1_Burundi.jsonl\", \"a\", encoding=\"utf-8\"\n",
    ") as jsonl_file:\n",
    "    jsonl_file.write(json.dumps(answer) + \"\\n\")"
   ],
   "id": "1f5a66d838f1bee9",
   "outputs": [],
   "execution_count": 25
  }
 ],
 "metadata": {
  "kernelspec": {
   "display_name": "Python 3",
   "language": "python",
   "name": "python3"
  },
  "language_info": {
   "codemirror_mode": {
    "name": "ipython",
    "version": 2
   },
   "file_extension": ".py",
   "mimetype": "text/x-python",
   "name": "python",
   "nbconvert_exporter": "python",
   "pygments_lexer": "ipython2",
   "version": "2.7.6"
  }
 },
 "nbformat": 4,
 "nbformat_minor": 5
}
