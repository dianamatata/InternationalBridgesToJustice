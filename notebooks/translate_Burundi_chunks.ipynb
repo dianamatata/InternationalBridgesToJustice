{
 "cells": [
  {
   "metadata": {},
   "cell_type": "markdown",
   "source": [
    "# Translate the chunks of the Burundi to English\n",
    " Once that all the databases and websites have been scraped, we need to translate the chunks in other languages to English.\n",
    " We also create a new collection with content only in English."
   ],
   "id": "f7eb88d9549ef7f4"
  },
  {
   "metadata": {},
   "cell_type": "markdown",
   "source": "Load the functions",
   "id": "55c51a5dfe9b3548"
  },
  {
   "metadata": {
    "ExecuteTime": {
     "end_time": "2025-06-10T11:10:41.301468Z",
     "start_time": "2025-06-10T11:10:41.295341Z"
    }
   },
   "cell_type": "code",
   "source": [
    "import os\n",
    "os.chdir('/Users/dianaavalos/PycharmProjects/InternationalBridgesToJustice')\n",
    "\n",
    "from src.internationalbridgestojustice.openai_utils import (\n",
    "    upload_batch_file_to_openAI,\n",
    "    submit_batch_job,\n",
    "    openai_client,\n",
    "    retrieve_and_save_batch_results,\n",
    "    check_progress_batch_id,\n",
    ")\n",
    "from src.internationalbridgestojustice.get_translation import (\n",
    "    Translator,\n",
    "    get_chunks_in_english,\n",
    "    get_chunks_for_one_country,\n",
    "    create_new_chunks_from_translated_results,\n",
    ")\n",
    "from src.internationalbridgestojustice.config import Paths\n",
    "from src.internationalbridgestojustice.file_manager import save_file\n",
    "\n",
    "from src.internationalbridgestojustice.chromadb_utils import (\n",
    "    load_collection,\n",
    "    batch_embed_and_add,\n",
    ")"
   ],
   "id": "3ecd67e3f579b1af",
   "outputs": [],
   "execution_count": 7
  },
  {
   "metadata": {},
   "cell_type": "markdown",
   "source": "Load the chunks from the 3 soucrces: defensewiki.ibj.org, constitution, and other legal documents.",
   "id": "f776c7417e39b0e0"
  },
  {
   "metadata": {
    "ExecuteTime": {
     "end_time": "2025-06-10T11:10:43.887373Z",
     "start_time": "2025-06-10T11:10:42.287329Z"
    }
   },
   "cell_type": "code",
   "source": [
    "defense_chunks_in_english, defense_chunks_not_in_english = get_chunks_in_english(\n",
    "    jsonl_file_path=\"data/processed/defensewiki.ibj.org/unique_chunks.jsonl\"\n",
    ")\n",
    "\n",
    "constitution_chunks_in_english, constitution_chunks_not_in_english = (\n",
    "    get_chunks_in_english(jsonl_file_path=Paths.PATH_JSONL_FILE_CONSTITUTION_CHUNKS)\n",
    ")\n",
    "\n",
    "other_legal_docs_chunks_in_english, other_legal_docs_chunks_not_in_english = (\n",
    "    get_chunks_in_english(jsonl_file_path=Paths.PATH_JSONL_FILE_LEGAL_OTHERS)\n",
    ")"
   ],
   "id": "df2bf89b9ac1644a",
   "outputs": [],
   "execution_count": 8
  },
  {
   "metadata": {
    "ExecuteTime": {
     "end_time": "2025-06-10T11:10:45.440632Z",
     "start_time": "2025-06-10T11:10:45.434494Z"
    }
   },
   "cell_type": "code",
   "source": [
    "print(\"DefenseWiki chunks not in English:\", len(defense_chunks_not_in_english))\n",
    "print(\"DefenseWiki chunks in English:\", len(defense_chunks_in_english))\n",
    "print(\"Constitution chunks not in English:\", len(constitution_chunks_not_in_english))\n",
    "print(\"Constitution chunks in English:\", len(constitution_chunks_in_english))\n",
    "print(\n",
    "    \"Other legal chunks not in English:\",\n",
    "    len(other_legal_docs_chunks_not_in_english),\n",
    ")\n",
    "print(\"Other legal chunks in English:\", len(other_legal_docs_chunks_in_english))\n"
   ],
   "id": "aef3508b1e9b4725",
   "outputs": [
    {
     "name": "stdout",
     "output_type": "stream",
     "text": [
      "DefenseWiki chunks not in English: 3553\n",
      "DefenseWiki chunks in English: 7052\n",
      "Constitution chunks not in English: 0\n",
      "Constitution chunks in English: 39439\n",
      "Other legal chunks not in English: 431\n",
      "Other legal chunks in English: 212\n"
     ]
    }
   ],
   "execution_count": 9
  },
  {
   "metadata": {
    "ExecuteTime": {
     "end_time": "2025-06-10T11:11:48.985313Z",
     "start_time": "2025-06-10T11:11:48.976276Z"
    }
   },
   "cell_type": "code",
   "source": [
    "total_chunks_not_in_english = (\n",
    "    defense_chunks_not_in_english\n",
    "    + constitution_chunks_not_in_english\n",
    "    + other_legal_docs_chunks_not_in_english\n",
    ")\n",
    "total_chunks_in_english = (\n",
    "    defense_chunks_in_english\n",
    "    + constitution_chunks_in_english\n",
    "    + other_legal_docs_chunks_in_english\n",
    ")\n",
    "\n",
    "print(\"Count of chunks not in English\", len(total_chunks_not_in_english))\n",
    "print(\"Count of chunks in English\", len(total_chunks_in_english))"
   ],
   "id": "aba48a9f1598c75b",
   "outputs": [
    {
     "name": "stdout",
     "output_type": "stream",
     "text": [
      "Count of chunks not in English 3984\n",
      "Count of chunks in English 46703\n"
     ]
    }
   ],
   "execution_count": 10
  },
  {
   "metadata": {},
   "cell_type": "markdown",
   "source": "## Filter the chunks on Burundi to create a Burundi collection and run just for that country ",
   "id": "555525b604556f72"
  },
  {
   "metadata": {
    "ExecuteTime": {
     "end_time": "2025-06-10T11:12:17.501119Z",
     "start_time": "2025-06-10T11:12:17.481619Z"
    }
   },
   "cell_type": "code",
   "source": [
    "COUNTRY = \"Burundi\"\n",
    "Country_chunks_not_in_english = get_chunks_for_one_country(\n",
    "    total_chunks_not_in_english, country=COUNTRY\n",
    ")\n",
    "Country_chunks_in_english = get_chunks_for_one_country(\n",
    "    total_chunks_in_english, country=COUNTRY\n",
    ")\n",
    "print(COUNTRY, \"chunks not in English: \", len(Country_chunks_not_in_english))\n",
    "print(COUNTRY, \"chunks  in English: , \", len(Country_chunks_in_english))"
   ],
   "id": "e29472aa725f61f8",
   "outputs": [
    {
     "name": "stdout",
     "output_type": "stream",
     "text": [
      "Burundi_chunks_not_in_english:  706\n",
      "Burundi_chunks_in_english:  304\n"
     ]
    }
   ],
   "execution_count": 11
  },
  {
   "metadata": {},
   "cell_type": "markdown",
   "source": [
    "Create batches to translate and submit requests --------------------------------\n",
    "Key limits and considerations when using GPT-4o Mini via OpenAI's Batch API\n",
    "Maximum Enqueued Tokens per Batch: Up to 2,000,000 tokens can be enqueued at one time.\n",
    "Context Window: Up to 128,000 tokens per request.\n",
    "Maximum Output Tokens: Up to 16,384 tokens per request.\n",
    "estimate one request = 1500 tokens"
   ],
   "id": "501ad5522ba5f904"
  },
  {
   "metadata": {},
   "cell_type": "markdown",
   "source": "Translate these chunks",
   "id": "1e0d3a98ef725e27"
  },
  {
   "metadata": {},
   "cell_type": "code",
   "outputs": [],
   "execution_count": null,
   "source": [
    "filtered_chunks = Country_chunks_not_in_english\n",
    "\n",
    "translator = Translator(model_name=\"gpt-4o-mini\")\n",
    "\n",
    "translator.create_batch_file_for_translation(\n",
    "    jsonl_output_file_path=\"data/interim/batch_input_translation_Burundi.jsonl\",\n",
    "    chunks=filtered_chunks,\n",
    ")\n",
    "\n",
    "file = upload_batch_file_to_openAI(\n",
    "    client=openai_client,\n",
    "    batch_file_name=\"data/interim/batch_input_translation_Burundi.jsonl\",\n",
    ")\n",
    "\n",
    "batch = submit_batch_job(client=openai_client, file_id=file.id)"
   ],
   "id": "8eff82bb237ef06c"
  },
  {
   "metadata": {},
   "cell_type": "code",
   "outputs": [],
   "execution_count": null,
   "source": [
    "batch_id = \"batch_6842f6bc28848190a58223b8d7c5c36b\"\n",
    "check_progress_batch_id(batch_id=batch_id)"
   ],
   "id": "a3cb4421bdcf6a4f"
  },
  {
   "metadata": {},
   "cell_type": "code",
   "outputs": [],
   "execution_count": null,
   "source": [
    "parsed_results = retrieve_and_save_batch_results(\n",
    "    batch_id=batch_id,\n",
    "    output_file_path_jsonl=\"data/interim/translation_Burundi_results.jsonl\",\n",
    "    return_parsed_results=True,\n",
    ")\n",
    "\n",
    "# create chunks_translated\n",
    "translated_chunks = create_new_chunks_from_translated_results(\n",
    "    chunks_not_in_english=filtered_chunks, parsed_results=parsed_results\n",
    ")\n",
    "\n",
    "# save new chunks\n",
    "save_file(\n",
    "    filename=Paths.PATH_TRANSLATED_CHUNKS,\n",
    "    content=translated_chunks,\n",
    "    file_type=\"jsonl1\",\n",
    ")"
   ],
   "id": "f16212bc92681a5f"
  },
  {
   "metadata": {},
   "cell_type": "markdown",
   "source": [
    "## Create a new collection with the translated chunks of Burundi + original in English\n",
    "V2 will only have chunks in english"
   ],
   "id": "3241bf15ac5ba5b5"
  },
  {
   "metadata": {},
   "cell_type": "code",
   "outputs": [],
   "execution_count": null,
   "source": "Country_chunks = Country_chunks_in_english + translated_chunks",
   "id": "a9b66c98a8c2c4b4"
  },
  {
   "metadata": {},
   "cell_type": "code",
   "outputs": [],
   "execution_count": null,
   "source": [
    "chroma_collection_file_path = \"data/chroma_db_v2\"\n",
    "collection_name = \"legal_collection_v2\"\n",
    "chunk_ids_present_in_chromadb_collection_file_path = \"data/chroma_db_v2/seen_ids.txt\"\n",
    "raw_embeddings = \"data/chroma_db_v2/raw_embeddings.jsonl\"\n",
    "\n",
    "collection = load_collection(\n",
    "    chroma_collection_file_path=chroma_collection_file_path,\n",
    "    collection_name=collection_name,\n",
    "    new_collection=True,  # Set to True to create a new collection\n",
    ")"
   ],
   "id": "753e24bb20f883ee"
  },
  {
   "metadata": {},
   "cell_type": "code",
   "outputs": [],
   "execution_count": null,
   "source": [
    "# in 2 steps otherwise error: 'Requested 310340 tokens, max 300000 tokens per request'\n",
    "for Burundi_chunks in [Country_chunks_in_english, translated_chunks]:\n",
    "    collection = batch_embed_and_add(\n",
    "        Burundi_chunks,\n",
    "        collection,\n",
    "        raw_embeddings,\n",
    "        chunk_ids_present_in_chromadb_collection_file_path,\n",
    "        batch_size=1000,\n",
    "    )\n",
    "print(f\"Collection contains {collection.count()} documents.\")"
   ],
   "id": "4fb70b567391b4ef"
  }
 ],
 "metadata": {
  "kernelspec": {
   "display_name": "Python 3",
   "language": "python",
   "name": "python3"
  },
  "language_info": {
   "codemirror_mode": {
    "name": "ipython",
    "version": 2
   },
   "file_extension": ".py",
   "mimetype": "text/x-python",
   "name": "python",
   "nbconvert_exporter": "python",
   "pygments_lexer": "ipython2",
   "version": "2.7.6"
  }
 },
 "nbformat": 4,
 "nbformat_minor": 5
}
