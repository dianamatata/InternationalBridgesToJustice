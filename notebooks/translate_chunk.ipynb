{
 "cells": [
  {
   "metadata": {},
   "cell_type": "markdown",
   "source": "### Get all chunks that need to be translated to English",
   "id": "2226ae4cec0208cf"
  },
  {
   "metadata": {},
   "cell_type": "code",
   "outputs": [],
   "execution_count": 35,
   "source": [
    "import numpy as np\n",
    "import openai\n",
    "import os\n",
    "from dotenv import load_dotenv\n",
    "load_dotenv()  # Load environment variables from .env file\n",
    "openai_api_key = os.environ.get(\"OPENAI_API_KEY\")\n",
    "client = openai.OpenAI()"
   ],
   "id": "fbb4a30f87e7a79d"
  },
  {
   "metadata": {
    "ExecuteTime": {
     "end_time": "2025-05-08T12:07:33.089048Z",
     "start_time": "2025-05-08T12:07:33.084805Z"
    }
   },
   "cell_type": "code",
   "source": "from src.internationalbridgestojustice.get_translation import (translate_to_english, get_chunks_in_english)",
   "id": "e2d225cb2e06ec12",
   "outputs": [],
   "execution_count": 37
  },
  {
   "metadata": {
    "ExecuteTime": {
     "end_time": "2025-05-08T12:07:35.978611Z",
     "start_time": "2025-05-08T12:07:35.714993Z"
    }
   },
   "cell_type": "code",
   "source": [
    "defense_chunks_in_english, filtered_chunks = get_chunks_in_english(\n",
    "    jsonl_file_path=\"data/processed/defensewiki.ibj.org/unique_chunks.jsonl\"\n",
    ")\n",
    "\n",
    "print(f\"Number of chunks to translate to english: {len(filtered_chunks)}\")\n",
    "links_list_to_extract = ['https://defensewiki.ibj.org/index.php?title=Burundi',\n",
    "                         'https://defensewiki.ibj.org/index.php?title=Burundi/es',\n",
    "                         'https://defensewiki.ibj.org/index.php?title=Burundi/fr']\n",
    "\n",
    "filtered_chunks_2 = [c for c in filtered_chunks if c['metadata']['link'] in links_list_to_extract]\n",
    "seen_countries = set([chunk['metadata']['country'] for chunk in filtered_chunks_2])"
   ],
   "id": "ab1f7f96255b03f3",
   "outputs": [
    {
     "name": "stdout",
     "output_type": "stream",
     "text": [
      "Number of chunks to translate to english: 3553\n"
     ]
    }
   ],
   "execution_count": 38
  },
  {
   "metadata": {
    "ExecuteTime": {
     "end_time": "2025-05-08T12:04:49.937814Z",
     "start_time": "2025-05-08T12:04:49.933079Z"
    }
   },
   "cell_type": "code",
   "source": [
    "print(np.unique([(c['metadata']['title']) for c in filtered_chunks_2]))\n",
    "print(len(filtered_chunks_2))"
   ],
   "id": "159f6ee6865f0a9a",
   "outputs": [
    {
     "name": "stdout",
     "output_type": "stream",
     "text": [
      "['Burundi-es' 'Burundi-fr']\n",
      "19\n"
     ]
    }
   ],
   "execution_count": 27
  },
  {
   "metadata": {},
   "cell_type": "markdown",
   "source": "### Translate one chunk",
   "id": "22a5e0e9ec21f7fa"
  },
  {
   "metadata": {
    "ExecuteTime": {
     "end_time": "2025-05-08T12:08:04.797868Z",
     "start_time": "2025-05-08T12:08:04.794055Z"
    }
   },
   "cell_type": "code",
   "source": [
    "chunk = filtered_chunks_2[1]\n",
    "md_text = chunk['content']\n",
    "print(md_text)"
   ],
   "id": "6758ab07fa9034d5",
   "outputs": [
    {
     "name": "stdout",
     "output_type": "stream",
     "text": [
      "Introduction\n",
      "============\n",
      "\n",
      "Le Burundi est un petit pays enclavé de la région des grands lacs d'Afrique qui lutte pour surmonter les conséquences d'une guerre civile qui aura durée plus de dix ans. Le nouveau gouvernement d'unité nationale dirigé par le Président Pierre Nkurunziza entreprend depuis 2005 la reconstruction de quasiment toutes les institutions du pays ainsi que le renforcement de l'état de droit et l'amélioration de la qualité de vie de ses citoyens. En avril 2009, le dernier groupe de rebelles du Burundi, les FNL (Forces de Libération Nationales) a renoncé à l'usage de la force et a été désarmé, créant ainsi une paix relativement stable dans le pays. Avec la large implication dans le gouvernement d'unité nationale des anciens groupes rebelles, la situation paraît encourageante.\n",
      "\n",
      "Depuis la fin de la guerre civile de 12 ans, le Burundi a fait des progrès considérables en termes de normalisation sociale et d'ouverture de l'espace politique. Si le système judiciaire fait face à de nombreux dysfonctionnements, les représentants des forces de maintien de l’ordre reconnaissent ouvertement les problèmes, et font preuve d'une volonté de les résoudre. De grands pas en avant ont été faits avec l'adoption en avril 2009 d'une loi portant réforme du Code Pénal qui criminalise explicitement l'utilisation de la torture.\n",
      "\n",
      "Plus de la moitié de la population burundaise vit sous le seuil de pauvreté et la fin de la guerre civile a laissé derrière elle un sillon de jeunes hommes peu éduqués et formés au seul combat militaire. Ceci signifie que la véritable réconciliation sociale reste un objectif lointain, quoi qu'atteignable. De profondes faiblesses institutionnelles du personnel peu formé et un manque de ressources minent la mise en œuvre effective des nouvelles lois et l'accès à la justice de millions de gens.\n",
      "\n",
      "La population du Burundi est d'environ 11 099 298 habitant (2016). La capitale est Bujumbura.\n",
      "La religion la plus présente sur son territoire est la religion Catholique (environ 60% de la population). Et, les langues officielles du Burundi sont le kirundi et le français.\n"
     ]
    }
   ],
   "execution_count": 39
  },
  {
   "metadata": {
    "ExecuteTime": {
     "end_time": "2025-05-08T12:08:30.660184Z",
     "start_time": "2025-05-08T12:08:24.758920Z"
    }
   },
   "cell_type": "code",
   "source": "translated = translate_to_english(md_text, client)",
   "id": "b4f29116d3dcbb55",
   "outputs": [],
   "execution_count": 42
  },
  {
   "metadata": {
    "ExecuteTime": {
     "end_time": "2025-05-08T12:08:30.666637Z",
     "start_time": "2025-05-08T12:08:30.662756Z"
    }
   },
   "cell_type": "code",
   "source": "print(translated)",
   "id": "336a55d5734de65c",
   "outputs": [
    {
     "name": "stdout",
     "output_type": "stream",
     "text": [
      "# Introduction\n",
      "\n",
      "Burundi is a small landlocked country in the Great Lakes region of Africa that struggles to overcome the consequences of a civil war that lasted more than ten years. The new national unity government led by President Pierre Nkurunziza has been undertaking the reconstruction of nearly all the country's institutions since 2005, as well as strengthening the rule of law and improving the quality of life for its citizens. In April 2009, the last group of Burundian rebels, the FNL (National Liberation Forces), renounced the use of force and was disarmed, thus creating a relatively stable peace in the country. With the significant involvement of former rebel groups in the national unity government, the situation appears encouraging.\n",
      "\n",
      "Since the end of the 12-year civil war, Burundi has made considerable progress in terms of social normalization and the opening of political space. Although the judicial system faces many dysfunctions, representatives of law enforcement openly acknowledge the problems and demonstrate a willingness to address them. Significant strides have been made with the adoption in April 2009 of a law reforming the Penal Code, which explicitly criminalizes the use of torture.\n",
      "\n",
      "More than half of the Burundian population lives below the poverty line, and the end of the civil war has left behind a trail of young men who are poorly educated and trained only for military combat. This means that true social reconciliation remains a distant, albeit achievable, goal. Deep institutional weaknesses, untrained personnel, and a lack of resources undermine the effective implementation of new laws and access to justice for millions of people.\n",
      "\n",
      "The population of Burundi is approximately 11,099,298 inhabitants (2016). The capital is Bujumbura. The most prevalent religion in its territory is Catholicism (about 60% of the population). The official languages of Burundi are Kirundi and French.\n"
     ]
    }
   ],
   "execution_count": 43
  },
  {
   "metadata": {
    "ExecuteTime": {
     "end_time": "2025-05-08T12:08:49.838972Z",
     "start_time": "2025-05-08T12:08:49.833785Z"
    }
   },
   "cell_type": "code",
   "source": [
    "translation_file = open(\"../data/interim/translation_file.txt\", \"a\")\n",
    "translation_file.write(f\"Title: {chunk['title']}\\n\\n{chunk['metadata']}\\n\\nOriginal text:\\n{md_text}\\n\\nTranslated text:\\n{translated}\\n\\n\\n\\n\")\n",
    "translation_file.close()"
   ],
   "id": "2b392d22712a0c3e",
   "outputs": [],
   "execution_count": 44
  }
 ],
 "metadata": {
  "kernelspec": {
   "display_name": "Python 3",
   "language": "python",
   "name": "python3"
  },
  "language_info": {
   "codemirror_mode": {
    "name": "ipython",
    "version": 2
   },
   "file_extension": ".py",
   "mimetype": "text/x-python",
   "name": "python",
   "nbconvert_exporter": "python",
   "pygments_lexer": "ipython2",
   "version": "2.7.6"
  }
 },
 "nbformat": 4,
 "nbformat_minor": 5
}
