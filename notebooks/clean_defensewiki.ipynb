{
 "cells": [
  {
   "metadata": {},
   "cell_type": "markdown",
   "source": [
    "This script is made to update the defensewiki pages, as we have country names not saved and also we have duplicates.\n",
    "We want to add as metadata the country in all the defense wiki pages.\n",
    "Update also chunks and collection of chromadb\n",
    "Some countries have duplicated pages, we have hashes that are not unique"
   ],
   "id": "c542b2ed79204cd5"
  },
  {
   "metadata": {
    "ExecuteTime": {
     "end_time": "2025-05-19T11:43:35.454949Z",
     "start_time": "2025-05-19T11:43:35.445871Z"
    }
   },
   "cell_type": "code",
   "source": [
    "import os\n",
    "os.chdir(\"/Users/dianaavalos/PycharmProjects/InternationalBridgesToJustice\")\n",
    "print(os.getcwd())"
   ],
   "id": "74cebfc49f7a5ccc",
   "outputs": [
    {
     "name": "stdout",
     "output_type": "stream",
     "text": [
      "/Users/dianaavalos/PycharmProjects/InternationalBridgesToJustice\n"
     ]
    }
   ],
   "execution_count": 1
  },
  {
   "metadata": {
    "ExecuteTime": {
     "end_time": "2025-05-19T11:46:00.624431Z",
     "start_time": "2025-05-19T11:46:00.621011Z"
    }
   },
   "cell_type": "code",
   "source": [
    "import json\n",
    "from src.scraping_functions import matching_country_name\n",
    "from src.config import path_folder_defense_wiki, file_country_names\n",
    "from src.countries_dict import title_to_country, substring_to_country\n",
    "from src.file_manager import save_file\n",
    "from collections import defaultdict, Counter\n",
    "import pandas as pd\n",
    "import chromadb\n",
    "import numpy as np\n",
    "from src.config import path_chromadb, collection_name"
   ],
   "id": "db2a9bacd901bda1",
   "outputs": [],
   "execution_count": 16
  },
  {
   "metadata": {},
   "cell_type": "markdown",
   "source": "load defensewiki to update countries",
   "id": "4841e0ec4cdc993d"
  },
  {
   "metadata": {
    "ExecuteTime": {
     "end_time": "2025-05-19T11:43:41.551878Z",
     "start_time": "2025-05-19T11:43:41.539895Z"
    }
   },
   "cell_type": "code",
   "source": [
    "json_filename=f\"{path_folder_defense_wiki}/defensewiki_no_content.json\"\n",
    "with open(json_filename, \"r\", encoding=\"utf-8\") as f:\n",
    "    dict_defensewiki = json.load(f)"
   ],
   "id": "ba7e2b1fcd87a592",
   "outputs": [],
   "execution_count": 3
  },
  {
   "metadata": {
    "ExecuteTime": {
     "end_time": "2025-05-19T11:43:42.138393Z",
     "start_time": "2025-05-19T11:43:42.007114Z"
    }
   },
   "cell_type": "code",
   "source": [
    "jsonl_filename=f\"{path_folder_defense_wiki}/defensewiki_all.jsonl\"\n",
    "with open(jsonl_filename, \"r\", encoding=\"utf-8\") as f:\n",
    "    dict_defensewiki_all = [json.loads(line) for line in f]"
   ],
   "id": "dd9bfc053143f305",
   "outputs": [],
   "execution_count": 4
  },
  {
   "metadata": {
    "ExecuteTime": {
     "end_time": "2025-05-19T11:43:42.832259Z",
     "start_time": "2025-05-19T11:43:42.828243Z"
    }
   },
   "cell_type": "code",
   "source": [
    "print(type(dict_defensewiki))\n",
    "print(type(dict_defensewiki_all))"
   ],
   "id": "27a7179ebe03329d",
   "outputs": [
    {
     "name": "stdout",
     "output_type": "stream",
     "text": [
      "<class 'dict'>\n",
      "<class 'list'>\n"
     ]
    }
   ],
   "execution_count": 5
  },
  {
   "metadata": {},
   "cell_type": "markdown",
   "source": [
    "Notice that dict_defensewiki_all is a list of dict, and dict_defensewiki is a dict of dict.\n",
    "What is best? dict of dict more practical to look up data[key], does not allow duplicates. if you use it like a table, or export to pandas, might be easier list of dict?"
   ],
   "id": "3e0979a9358f36c0"
  },
  {
   "metadata": {},
   "cell_type": "markdown",
   "source": [
    "remove first key:\n",
    "'https://defensewiki.ibj.org/index.php?title=Special:MostRevisions&limit=1300&offset=0'"
   ],
   "id": "523d373edbfcdd75"
  },
  {
   "metadata": {
    "ExecuteTime": {
     "end_time": "2025-05-19T11:43:46.024578Z",
     "start_time": "2025-05-19T11:43:46.016097Z"
    }
   },
   "cell_type": "code",
   "source": [
    "first_key = next(iter(dict_defensewiki))\n",
    "first_key"
   ],
   "id": "8ea10173793a7b22",
   "outputs": [
    {
     "data": {
      "text/plain": [
       "'https://defensewiki.ibj.org/index.php?title=Special:MostRevisions&limit=1300&offset=0'"
      ]
     },
     "execution_count": 6,
     "metadata": {},
     "output_type": "execute_result"
    }
   ],
   "execution_count": 6
  },
  {
   "metadata": {
    "ExecuteTime": {
     "end_time": "2025-05-19T11:43:46.471046Z",
     "start_time": "2025-05-19T11:43:46.465924Z"
    }
   },
   "cell_type": "code",
   "source": [
    "dict_defensewiki.pop(first_key)\n",
    "first_key = next(iter(dict_defensewiki))\n",
    "first_key"
   ],
   "id": "921623d131d26e4a",
   "outputs": [
    {
     "data": {
      "text/plain": [
       "'https://defensewiki.ibj.org/index.php?title=Criminal_Justice_Systems_Around_the_World'"
      ]
     },
     "execution_count": 7,
     "metadata": {},
     "output_type": "execute_result"
    }
   ],
   "execution_count": 7
  },
  {
   "metadata": {
    "ExecuteTime": {
     "end_time": "2025-05-19T11:43:48.663702Z",
     "start_time": "2025-05-19T11:43:48.660605Z"
    }
   },
   "cell_type": "code",
   "source": "first_key = next(iter(dict_defensewiki_all))",
   "id": "e844cce9afbbb47e",
   "outputs": [],
   "execution_count": 8
  },
  {
   "metadata": {},
   "cell_type": "markdown",
   "source": "Update all the countries for each",
   "id": "d0b14ebf9c4bd128"
  },
  {
   "metadata": {
    "ExecuteTime": {
     "end_time": "2025-05-19T11:43:51.489121Z",
     "start_time": "2025-05-19T11:43:51.484937Z"
    }
   },
   "cell_type": "code",
   "source": [
    "with open(file_country_names, \"r\", encoding=\"utf-8\") as f:\n",
    "    list_country_names = f.read().splitlines()"
   ],
   "id": "218092bae3450ff3",
   "outputs": [],
   "execution_count": 9
  },
  {
   "metadata": {
    "ExecuteTime": {
     "end_time": "2025-05-19T11:44:03.071699Z",
     "start_time": "2025-05-19T11:44:02.891046Z"
    }
   },
   "cell_type": "code",
   "source": [
    "for d in dict_defensewiki.values():\n",
    "    d[\"country\"] = matching_country_name(list_country_names, d[\"title\"], title_to_country, substring_to_country)\n",
    "for d in dict_defensewiki_all[1:]:\n",
    "    d[\"country\"] = matching_country_name(list_country_names, d[\"title\"], title_to_country, substring_to_country)"
   ],
   "id": "6f3add1b21853b47",
   "outputs": [],
   "execution_count": 12
  },
  {
   "metadata": {},
   "cell_type": "markdown",
   "source": "Debug",
   "id": "8c1fb2fbfeac7dd6"
  },
  {
   "metadata": {
    "ExecuteTime": {
     "end_time": "2025-05-19T11:44:03.794796Z",
     "start_time": "2025-05-19T11:44:03.789257Z"
    }
   },
   "cell_type": "code",
   "source": "matching_country_name(list_country_names, \"china criminal defense manual - motions\", title_to_country, substring_to_country)",
   "id": "7f7b205330bf5cbc",
   "outputs": [
    {
     "data": {
      "text/plain": [
       "'China'"
      ]
     },
     "execution_count": 13,
     "metadata": {},
     "output_type": "execute_result"
    }
   ],
   "execution_count": 13
  },
  {
   "metadata": {},
   "cell_type": "markdown",
   "source": "Check all the titles that have no country, in case we missed one",
   "id": "4968c1facd26a2c4"
  },
  {
   "metadata": {
    "ExecuteTime": {
     "end_time": "2025-05-19T11:44:06.151540Z",
     "start_time": "2025-05-19T11:44:06.144390Z"
    }
   },
   "cell_type": "code",
   "source": [
    "for key, val in list(dict_defensewiki.items()):\n",
    "    if val[\"country\"] == \"\":\n",
    "        print(val[\"title\"])"
   ],
   "id": "35fc688081c953fb",
   "outputs": [
    {
     "name": "stdout",
     "output_type": "stream",
     "text": [
      "criminal justice systems around the world\n",
      "representing victims of torture\n",
      "cross-examination\n",
      "evidence\n",
      "defenses\n",
      "crimes\n",
      "international law\n",
      "nullity of procedure\n",
      "rights of the accused\n",
      "legal aid systems and supporting ngos around the world\n",
      "crimes against humanity\n",
      "right to counsel\n",
      "sample cross-examination transcripts\n",
      "pre-trial detention\n",
      "international criminal court\n",
      "confessions\n",
      "false confessions - admissions\n",
      "sistemas de justicia penal\n",
      "eyewitness misidentification\n",
      "eyewitness misidentification-fr\n",
      "42 u.s.c.  1983\n",
      "rights of the accused-es\n",
      "theory of the case\n",
      "arrest\n",
      "exclusionary rule\n",
      "justiciability doctrine\n",
      "right to silence\n",
      "torture\n",
      "client interviews\n",
      "identity checks\n",
      "showups, lineups, and photo arrays\n",
      "search and seizure\n",
      "actus reus (voluntary act)\n",
      "right to habeas corpus\n",
      "double jeopardy\n",
      "ethics and professional responsibility\n",
      "mens rea (culpable mental state)\n",
      "criminal defense resources on the web\n",
      "closing statements\n",
      "false confessions - admissions-fr\n",
      "rome statute of the international criminal court\n",
      "appeals\n",
      "criminal defense wiki\n",
      "sentencing\n",
      "presumption of innocence\n",
      "criminal defense wiki-ar\n",
      "international law-fr\n",
      "forensic evidence\n",
      "joint representation of criminal defendants\n",
      "ineffective assistance of counsel\n",
      "competency to testify\n",
      "motions\n",
      "causes of wrongful convictions\n",
      "work product doctrine\n",
      "standards of proof\n",
      "criminal defense wiki's volunteer translators\n",
      "right to a speedy trial\n",
      "unvalidated or improper forensic science\n",
      "testpage\n",
      "bail\n",
      "right to medical care in prison\n",
      "attorney-client privilege\n",
      "hiv in prison\n",
      "materiality, relevance, and admissibility of evidence\n",
      "direct examination\n",
      "right to a fair trial\n",
      "international covenant for the protection of all persons from enforced disappearance\n",
      "rules concerning questions about examining and judging evidence in death penalty cases\n",
      "stare decisis\n",
      "public defender and legal aid systems\n",
      "murder\n",
      "death sentence\n",
      "opening statements\n",
      "rights of the accused in the international criminal court\n",
      "sample closing arguments transcripts\n",
      "discovery\n",
      "physician-patient privilege\n",
      "self-defense\n",
      "manslaughter - involuntary\n",
      "criminal defense wiki-es\n",
      "federal rules of evidence - rule 404. character evidence not admissible to prove conduct; exceptions; other crimes\n",
      "investigation\n",
      "gps evidence and the fourth amendment\n",
      "theory of the case-fr\n",
      "right to trial by jury\n",
      "evidence-fr\n",
      "hearsay\n",
      "administrative detention\n",
      "rights of the accused under shari'ah law\n",
      "convention against torture\n",
      "voluntariness test\n",
      "criminal defense wiki mobile\n",
      "sandbox\n",
      "charter of fundamental rights of the european union\n",
      "intoxication\n",
      "united nations convention on the rights of the child\n",
      "women's rights in prison\n",
      "the role and responsibility of a criminal defense lawyer-pt\n",
      "pretrial identification\n",
      "criminal defense wiki mobile-es\n",
      "priest-penitent privilege\n",
      "criminal defense wiki-fr\n",
      "icj rules of court\n",
      "criminal defense wiki mobile-ar\n",
      "victim's rights\n",
      "right to notice of charges\n",
      "standard minimum rules for the administration of juvenile justice (the beijing rules)-fr\n",
      "assault\n",
      "kidnapping\n",
      "expert witnesses\n",
      "droit international\n",
      "criminal justice systems around the world-es\n",
      "the role and responsibility of a criminal defense lawyer\n",
      "relationship between defense lawyer and defendant-es\n",
      "conflicts of interest\n",
      "venue\n",
      "right to appeal\n",
      "cultural defense\n",
      "crimes-fr\n",
      "federal rules of evidence\n",
      "eyewitness misidentification-es\n",
      "void for vagueness\n",
      "examination of witnesses\n",
      "ex post facto punishment\n",
      "actors in the criminal justice system\n",
      "model penal code\n",
      "voir dire\n",
      "sentencing-fr\n",
      "international covenant on civil and political rights\n",
      "criminal defense wiki-ru\n",
      "harmless error\n",
      "rape\n",
      "right to non self-incrimination\n",
      "brady material\n",
      "defenses-fr\n",
      "genocide\n",
      "battery\n",
      "trial\n",
      "relationship between defense lawyer and defendant\n",
      "sao tome and principe\n",
      "criminal defense wiki mobile-fr\n",
      "united nations guidelines for the prevention of juvenile delinquency (the riyadh guidelines)\n",
      "relationship between defense lawyer and defendant-fr\n",
      "mental incapacity\n",
      "conspiracy\n",
      "sodomy\n",
      "electronic surveillance\n",
      "conditions of confinement\n",
      "legality principle\n",
      "human or sex trafficking\n",
      "jury\n",
      "witnesses\n",
      "standards for conviction\n",
      "corpus delecti\n",
      " \n",
      "de minimis\n",
      "right to confront witnesses\n",
      "justification and excuse\n",
      "trial-ar\n",
      "optional protocol to the convention against torture and other cruel, inhuman or degrading treatment or punishment\n",
      "fingerprints\n",
      "infancy defense\n",
      "voir dire-fr\n",
      "stops and frisks\n",
      "causes of wrongful convictions-fr\n",
      "molestation and other sex crimes against children\n",
      "juvenile justice\n",
      "extradition\n",
      " \n",
      "body of principles for the protection of all persons under any form of detention or imprisonment\n",
      "open file discovery\n",
      "aba ten principles of a public defense delivery system\n",
      "rebuttal examination\n",
      "confessions-fr\n",
      "international court of justice\n",
      "rights of the accused-ar\n",
      "immigration\n",
      "principles for the protection of persons with mental illness and the improvement of mental health care\n",
      "mistake of law\n",
      "common article 3 of the four geneva conventions of 1949 and additional protocols i and ii\n",
      "mistake of fact\n",
      "core value 4: embraces concepts of equality\n",
      "south korea\n",
      "lack of jurisdiction\n",
      "entrapment\n",
      "right to impartial judge\n",
      "trial-fr\n",
      "alibi\n",
      "rights and obligations of criminal defense lawyers\n",
      " \n",
      "trial-es\n",
      "legal aid in asean countries\n",
      " -ru\n",
      "manslaughter - voluntary\n",
      "principles on the effective prevention and investigation of extra-legal, arbitrary and summary executions\n",
      "common objections at trial\n",
      "insanity defense\n",
      "defender's credo\n",
      "search and seizure-es\n",
      "the role and responsibility of a criminal defense lawyer-ar\n",
      "oral advocacy\n",
      "right to compulsory process\n",
      "reasonable doubt\n",
      "standing to suppress evidence\n",
      "identifying mentally handicapped defendants\n",
      "war crimes\n",
      " \n",
      "incest\n",
      "jury-es\n",
      "right to counsel (trial)\n",
      "in flagrante delicto\n",
      " \n",
      "marital confidences and spousal testimonial privileges\n",
      "opening statements-ar\n",
      "statutory rape\n",
      "appeals-fr\n",
      "\n",
      "legal defender best practices\n",
      "  \n",
      "defense of privacy\n",
      "plea bargaining\n",
      "transferred intent\n",
      "the role and responsibility of a criminal defense lawyer-es\n",
      "ethics and professional responsibility-ru\n",
      "mayhem\n",
      "universal declaration of human rights\n",
      "opening the door to excluded evidence\n",
      "diminished capacity defense\n",
      "client interviews-ar\n",
      "criminal defense wiki's volunteer writers\n",
      "african charter on human and peoples' rights\n",
      "statutory limitation\n",
      "cross-examination-fr\n",
      "theory of the case-es\n",
      "convention for the protection of human rights and fundamental freedoms\n",
      "core value 1: allows for safety, humanity and respect-fr\n",
      "civil action\n",
      "overview of crime scene investigation\n",
      "federal rules of criminal procedure\n",
      "credo do defensor\n",
      "universal declaration of human rights-fr\n",
      "holistic defender services\n",
      "character evidence\n",
      "universal declaration of human rights-es\n",
      "international standards on the role of defense counsel\n",
      "asean intergovernmental commission of human rights terms of reference\n",
      "plea bargaining-fr\n",
      "necessity\n",
      "core values\n",
      "united nations rules for the protection of juveniles deprived of their liberty\n",
      "african charter on human and peoples'rights\n",
      "stalking\n",
      "closing statements-es\n",
      "victim's rights-es\n",
      "dna\n",
      "judgement notwithstanding the verdict\n",
      "investigation-fr\n",
      "arab charter on human rights\n",
      "writ of error coram nobis\n",
      "reputation and opinion\n",
      "core values-fr\n",
      "opening statements-fr\n",
      "rule of law\n",
      "defense of property\n",
      "client interviews-fr\n",
      "federal rules of criminal procedure - rule 1. scope; definitions\n",
      "core value 8: uses proportionality and reflects the goals of reformation and rehabilitation\n",
      "core value 1: allows for safety, humanity and respect\n",
      "core value 2: not arbitrary and has checks and balances\n",
      "freedom from punishment\n",
      "rupture defense\n",
      "international covenant on civil and political rights-fr\n",
      "mcnabb-mallory rule\n",
      "hair\n",
      "exhaustion\n",
      "international criminal tribunal for the former yugoslavia\n",
      "basic principles on the use of force and firearms by law enforcement officials\n",
      "federal rules of evidence - rule 1005. public records\n",
      "rules concerning questions about exclusion of illegal evidence in handling criminal cases\n",
      "bail-fr\n",
      "core value 3: accounts for individual differences\n",
      "bifurcated proceedings\n",
      "jurisdiction\n",
      "defense of others\n",
      "core value 6: embodies fairness\n",
      "standard minimum rules for treatment of prisoners-fr\n",
      "estados unidos de america\n",
      "core value 7: allows for openness and public oversight\n",
      "important u.s. cases\n",
      "plea bargaining-es\n",
      ":\n",
      "stages in a criminal trial - us\n",
      "california:victim's bill of rights\n",
      "united nations basic principles on the independence of the judiciary power\n",
      "discovery-ru\n",
      "error\n",
      "icj rules of court-fr\n",
      " \n",
      "accomplice liability\n",
      "united nations convention on the rights of the child-fr\n",
      ".\n",
      "basic principles for the treatment of prisoners\n",
      "duress\n",
      "freedom from cruel or unusual punishment\n",
      "civil action-es\n",
      "standard minimum rules for treatment of prisoners\n",
      "second optional protocol to the international covenant on civil and political rights, aiming at the abolition of the death penalty-fr\n",
      "false imprisonment\n",
      "consent\n",
      "optional protocol to the convention against torture and other cruel, inhuman or degrading treatment or punishment-fr\n",
      "federal rules of evidence - rule 413. evidence of similar crimes in sexual assault cases\n",
      "united nations standard minimum rules for non-custodial measures (the tokyo rules)\n",
      "procedural defects\n",
      "second optional protocol to the international covenant on civil and political rights\n",
      "second optional protocol to the international covenant on civil and political rights, aiming at the abolition of the death penalty\n",
      "federal rules of evidence - rule 201. judicial notice of adjudicative facts\n",
      "house arrest - electronic monitoring\n",
      "rooker-feldman doctrine\n",
      "convention on the prevention and punishment of the crime of genocide\n",
      "physical impossibility\n",
      "gideon v. wainwright, 372 u.s. 335 (1963)\n",
      "jurisdiction-ru\n",
      "criminal act with sincere intent\n",
      "african charter on the rights and welfare of the child\n",
      "united state supreme court\n",
      "depositions\n",
      "core value 5: is swift and communicates to detainees\n",
      "direct examination-fr\n",
      "direct examination-ar\n",
      "a compilation of relevant statue\n",
      "suspended sentence\n",
      "stops and frisks-es\n",
      " \n",
      "mistake of identity\n",
      "lack of intent\n",
      "asean (association of southeast asian nations) charter\n",
      "principles of medical ethics relevant to the role of health personnel, particularly physicians, in the protection of prisoners and detainees against torture and other cruel, inhuman or degrading treatment or punishment\n",
      "rule of law-es\n",
      "transcripts\n",
      "convention on the prevention and punishment of the crime of genocide-fr\n",
      "federal rules of evidence - rule 801. definitions\n",
      "attempt\n",
      "exclusionary rule-es\n",
      "fines\n",
      "maltreated women syndrome\n",
      "federal rules of criminal procedure - rule 4. arrest warrant or summons on a complaint\n",
      "principles and guidelines on the right to a fair trial and legal assistance in africa\n",
      "solicitation\n",
      "federal rules of criminal procedure - rule 15. depositions\n",
      "united nations basic principles on the independence of the judiciary power-fr\n",
      "federal rules of criminal procedure - rule 43. defendant's presence\n",
      "federal rules of evidence - rule 411. liability insurance\n",
      "federal rules of evidence - rule 1002. requirement of original\n",
      "restitution\n",
      "actors in the criminal justice system-es\n",
      "federal rules of criminal procedure - rule 5.1. preliminary hearing\n",
      "federal rules of criminal procedure - rule 16. discovery and inspection\n",
      "united nations code of conduct for law enforcement officials-fr\n",
      "federal rules of evidence - rule 412. sex offense cases; relevance of alleged victim's past sexual behavior or alleged sexual predisposition\n",
      "federal rules of evidence - rule 1003. admissibility of duplicates\n",
      "  \n",
      "lao's people democratic republic\n",
      "criminal defense lawyers-es\n",
      "federal rules of criminal procedure - rule 6. the grand jury\n",
      "confessions-es\n",
      "federal rules of evidence - rule 1004. admissibility of other evidence of contents\n",
      "principio de legalidad\n",
      "federal rules of criminal procedure - rule 17. subpoena\n",
      "declaration on the protection of all persons from being subjected to torture and other cruel, inhuman or degrading treatment or punishment-fr\n",
      "federal rules of criminal procedure - rule 46. release from custody; supervising detention\n",
      "guidelines and measures for the prohibition and prevention of torture, cruel, inhuman or degrading treatment or punishment in africa (robben island guidelines)\n",
      "freedom from punishment-es\n",
      "federal rules of evidence - rule 414. evidence of similar crimes in child molestation cases\n",
      "the crime of aggression\n",
      "federal rules of evidence - rule 101. scope\n",
      "pretrial identification-es\n",
      "hiibel v. sixth judicial district court of nevada, 542 u.s. 177 (2004)\n",
      "federal rules of evidence - rule 415. evidence of similar acts in civil cases concerning sexual assault or child molestation\n",
      "federal rules of evidence - rule 1006. summaries\n",
      "convention against torture-es\n",
      "federal rules of evidence - rule 102. purpose and construction\n",
      "federal rules of evidence - rule 301. presumptions in general civil actions and proceedings\n",
      "rebuttal examination-es\n",
      "federal rules of evidence - rule 501. general rule\n",
      "federal rules of evidence - rule 1007. testimony or written admission of party\n",
      "basic principles for the treatment of prisoners-fr\n",
      "federal rules of evidence - rule 103. rulings on evidence\n",
      "federal rules of evidence - rule 302. applicability of state law in civil actions and proceedings\n",
      "causes of wrongful convictions-es\n",
      "federal rules of evidence - rule 502. attorney-client privilege and work product; limitations on waiver\n",
      "federal rules of evidence - rule 701. opinion testimony by lay witnesses\n",
      "federal rules of evidence - rule 1008. functions of court and jury\n",
      "the role and responsibility of a criminal defense lawyer-fr\n",
      "dari\n",
      "booking\n",
      "united nations standard minimum rules for non-custodial measures (the tokyo rules)-fr\n",
      "federal rules of criminal procedure - rule 32.2. criminal forfeiture\n",
      "federal rules of criminal procedure - rule 49.1. privacy protection for filings made with the court\n",
      "federal rules of evidence - rule 104. preliminary questions\n",
      "convention on the non-applicability of statutory limitations to war crimes and crimes against humanity\n",
      "federal rules of evidence - rule 401. definition of \"relevant evidence\"\n",
      "people v. debour, 40 ny2d 210 (new york 1976)\n",
      "body of principles for the protection of all persons under any form of detention or imprisonment-fr\n",
      "federal rules of evidence - rule 105. limited admissibility\n",
      "periods of prescription\n",
      "federal rules of evidence - rule 402. relevant evidence generally admissible; irrelevant evidence inadmissible\n",
      "federal rules of evidence - rule 602. lack of personal knowledge\n",
      "plea bargaining-ru\n",
      "federal rules of criminal procedure - rule 12.1. notice of an alibi defense\n",
      "identity checks-es\n",
      "jury nullification\n",
      "federal rules of evidence - rule 106. remainder of or related writings or recorded statements\n",
      "federal rules of evidence - rule 403. exclusion of relevant evidence on grounds of prejudice, confusion, or waste of time\n",
      "the role and responsibility of a criminal defense lawyer-ru\n",
      "brown v. mississippi, 297 u.s. 278 (1936)\n",
      "core value 2: not arbitrary and has checks and balances-es\n",
      "declaration on the protection of all persons from being subjected to torture and other cruel, inhuman or degrading treatment or punishment\n",
      "united nations guidelines for the prevention of juvenile delinquency (the riyadh guidelines)-fr\n",
      "federal rules of criminal procedure - rule 35. correcting or reducing a sentence\n",
      "federal rules of evidence - rule 1101. applicability of rules\n",
      "selective prosecution\n",
      "federal rules of evidence - rule 405. methods of proving character\n",
      "freedom from cruel or unusual punishment-es\n",
      "federal rules of criminal procedure - rule 12.3. notice of a public-authority defense\n",
      "code of conduct for law enforcement officials\n",
      "sentencing hypothetical\n",
      "arrest-es\n",
      "federal rules of evidence - rule 1102. amendments\n",
      "federal rules of evidence - rule 406. habit; routine practice\n",
      "investigation-ru\n",
      "probation\n",
      "federal rules of evidence - rule 1103. title\n",
      "federal rules of evidence - rule 407. subsequent remedial measures\n",
      "federal rules of evidence - rule 606. competency of juror as witness\n",
      "revocation hearing\n",
      ":.doc\n",
      "neil v. biggers, 409 u. s. 188 (1972)\n",
      "federal rules of criminal procedure - rule 2. interpretation\n",
      "federal rules of criminal procedure - rule 13. joint trial of separate cases\n",
      "federal rules of criminal procedure - rule 26.2. producing a witness's statement\n",
      "arraignment\n",
      "objection: privilege\n",
      "federal rules of evidence - rule 408. compromise and offers to compromise\n",
      "forfeiture\n",
      "standard minimum rules for the administration of juvenile justice (the beijing rules)\n",
      "international covenant for the protection of all persons from enforced disappearance-fr\n",
      "objection: hearsay\n",
      "federal rules of evidence - rule 409. payment of medical and similar expenses\n",
      "appeals-es\n",
      "ballistics\n",
      "rights of the accused-fr\n",
      "convention on the non-applicability of statutory limitations to war crimes and crimes against humanity-fr\n",
      "federal rules of criminal procedure - rule 42. criminal contempt\n",
      "federal rules of evidence - rule 803. hearsay exceptions; availability of declarant immaterial\n",
      "nullity of procedure-es\n",
      "federal rules of evidence - rule 410. inadmissibility of pleas, plea discussions, and related statements\n",
      "federal rules of evidence - rule 1001. definitions\n",
      "federal rules of criminal procedure - rule 5. initial appearance\n",
      "consecutive sentence\n",
      "federal rules of criminal procedure - rule 28. interpreters\n",
      "guidelines on the role of prosecutors\n",
      "federal rules of criminal procedure - rule 60. victim's rights\n",
      "federal rules of evidence - rule 804. hearsay exceptions; declarant unavailable\n",
      "federal rules of evidence - rule 610. religious beliefs or opinions\n",
      "sujetos procesales\n",
      "deferred sentence\n",
      "federal rules of criminal procedure - rule 29. motion for a judgment of acquittal\n",
      "federal rules of criminal procedure - rule 44. right to and appointment of counsel\n",
      "lilongwe declaration on accessing legal aid in criminal justice system in africa and plan of action\n",
      "federal rules of evidence - rule 805. hearsay within hearsay\n",
      "east africa law society\n",
      "federal rules of evidence - rule 611. mode and order of interrogation and presentation\n",
      "incarceration\n",
      "valores fundamentales\n",
      "legal aid systems and supporting ngos around the world-es\n",
      "determinate sentence\n",
      "federal rules of criminal procedure - rule 29.1. closing argument\n",
      "declaration of basic principles of justice for victims of crime and abuse of power-fr\n",
      "federal rules of criminal procedure - rule 45. computing and extending time\n",
      "federal rules of evidence - rule 806. attacking and supporting credibility of declarant\n",
      "right to notice of charges-es\n",
      "federal rules of evidence - rule 612. writing used to refresh memory\n",
      "federal rules of criminal procedure - rule 7. the indictment and the information\n",
      "indeterminate sentence\n",
      "federal rules of criminal procedure - rule 30. jury instructions\n",
      "federal rules of evidence - rule 807. residual exception\n",
      "right to non self-incrimination-es\n",
      "federal rules of evidence - rule 613. prior statements of witnesses\n",
      "relationship between defense lawyer and defendant-ar\n",
      "principles on the effective investigation and documentation of torture and other cruel, inhuman or degrading treatment or punishment\n",
      "prison litigation reform act (plra)\n",
      "interpretacion mas razonable\n",
      "federal rules of criminal procedure - rule 8. joinder of offenses or defendants\n",
      "federal rules of criminal procedure - rule 17.1. pretrial conference\n",
      "life sentence\n",
      "principles of medical ethics relevant to the role of health personnel, particularly physicians, in the protection of prisoners and detainees against torture and other cruel, inhuman or degrading treatment or punishment-fr\n",
      "federal rules of criminal procedure - rule 31. jury verdict\n",
      "principles on the effective prevention and investigation of extra-legal, arbitrary and summary executions-fr\n",
      "federal rules of criminal procedure - rule 47. motions and supporting affidavits\n",
      "federal rules of evidence - rule 614. calling and interrogation of witnesses by court\n",
      "arson\n",
      "criminal defense wiki mobile-ru\n",
      "federal rules of criminal procedure - rule 9. arrest warrant or summons on an indictment or information\n",
      "federal rules of criminal procedure - rule 18. place of prosecution and trial\n",
      "mandatory sentence\n",
      "principles on the effective investigation and documentation of torture and other cruel, inhuman or degrading treatment or punishment-fr\n",
      "federal rules of criminal procedure - rule 32. sentencing and judgment\n",
      "basic principles on the role of lawyers-fr\n",
      "federal rules of criminal procedure - rule 48. dismissal\n",
      "right to trial by jury-es\n",
      "federal rules of evidence - rule 615. exclusion of witnesses\n",
      "convention against torture-fr\n",
      "habitual offender statutes\n",
      "federal rules of criminal procedure - rule 10. arraignment\n",
      "federal rules of criminal procedure - rule 20. transfer for plea and sentence\n",
      "maximum sentence\n",
      "federal rules of criminal procedure - rule 32.1. revoking or modifying probation or supervised release\n",
      "federal rules of criminal procedure - rule 49. serving and filing papers\n",
      "pretrial identification-es\n",
      "evidence-spa\n",
      "terry v. ohio, 392 u.s. 1 (1968)\n",
      "federal rules of criminal procedure - rule 11. pleas\n",
      "federal rules of criminal procedure - rule 21. transfer for trial\n",
      "united nations code of conduct for law enforcement officials\n",
      "minimum sentence\n",
      "right to counsel-es\n",
      "federal rules of evidence - rule 601. general rule of competency\n",
      "death sentence-es\n",
      "federal rules of evidence - rule 702. testimony by experts\n",
      "rule of fair import\n",
      "executive sentencing interventions\n",
      "core value 1: allows for safety, humanity and respect-es\n",
      "federal rules of criminal procedure - rules 12. defenses and objections -- when and how presented -- by pleading or motion -- motion for judgment on the pleadings\n",
      "federal rules of criminal procedure - rule 23. jury or nonjury trial\n",
      "presumptive sentence\n",
      "federal rules of criminal procedure - rule 33. new trial\n",
      "african charter on human and peoples'rights-fr\n",
      "federal rules of criminal procedure - rule 50. prompt disposition\n",
      "double jeopardy-es\n",
      "core value 2: not arbitrary and has checks and balances-fr\n",
      "federal rules of evidence - rule 703. bases of opinion testimony by experts\n",
      "european convention for the prevention of torture and of inhumane or degrading punishments or treatments\n",
      "federal rules of criminal procedure - rule 24. trial jurors\n",
      "straight or flat sentence\n",
      "federal rules of criminal procedure - rule 34. arresting judgment\n",
      "federal rules of criminal procedure - rule 51. preserving claimed error\n",
      "prescriptive periods\n",
      "legality principle-es\n",
      "federal rules of evidence - rule 603. oath or affirmation\n",
      "federal rules of evidence - rule 704. opinion on ultimate issue\n",
      "federal rules of criminal procedure - rule 12.2. notice of an insanity defense; mental examination\n",
      "federal rules of criminal procedure - rule 25. judge's disability\n",
      "federal rules of criminal procedure - rule 52. harmless and plain error\n",
      "presumption of innocence-es\n",
      "defenses-es\n",
      "federal rules of evidence - rule 604. interpreters\n",
      "core value 4: embraces concepts of equality-fr\n",
      "federal rules of evidence - rule 705. disclosure of facts or data underlying expert opinion\n",
      "main page\n",
      "colorado v. connelly, 479 u.s. 157 (1987)\n",
      "core value 3: accounts for individual differences-es\n",
      "42 u.s.c.  1997e\n",
      "federal rules of criminal procedure - rule 26. taking testimony\n",
      "united nations rules for the protection of juveniles deprived of their liberty-fr\n",
      "federal rules of criminal procedure - rule 36. clerical error\n",
      "federal rules of criminal procedure - rule 53. courtroom photographing and broadcasting prohibited\n",
      "dismissal in interest of justice\n",
      "arizona:victim's bill of rights\n",
      "federal rules of evidence - rule 605. competency of judge as witness\n",
      "core value 8: uses proportionality and reflects the goals of reformation and rehabilitation-fr\n",
      "federal rules of evidence - rule 706. court appointed experts\n",
      "illinois v. perkins, 496 u.s. 292 (1990)\n",
      "south korea-es\n",
      "federal rules of criminal procedure - rule 26.1. foreign law determination\n",
      "federal rules of criminal procedure - rule 38. staying a sentence or a disability\n",
      "kampala declaration on prison conditions in africa\n",
      "federal rules of criminal procedure - rule 55. records\n",
      "objection: irrelevant\n",
      "standards for conviction-es\n",
      "discovery-es\n",
      "core value 7: allows for openness and public oversight-fr\n",
      "federal rules of evidence - rule 901. requirement of authentication or identification\n",
      "criminal justice systems around the world, languages\n",
      "lesser charges\n",
      "declaration of basic principles of justice for victims of crime and abuse of power\n",
      "federal rules of criminal procedure - rule 40. arrest for failing to appear in another district\n",
      "federal rules of criminal procedure - rule 56. when court is open\n",
      "right to silence-es\n",
      "federal rules of evidence - rule 607. who may impeach\n",
      "core value 5: is swift and communicates to detainees-fr\n",
      "federal rules of evidence - rule 902. self-authentication\n",
      "void for overbreadth\n",
      ":.doc\n",
      "federal rules of criminal procedure - rule 3. the complaint\n",
      "federal rules of criminal procedure - rule 12.4. disclosure statement\n",
      "federal rules of criminal procedure - rule 26.3. mistrial\n",
      "felony murder\n",
      "federal rules of criminal procedure - rule 41. search and seizure\n",
      "resolution on the right to a fair trial and legal assistance in africa - the dakar declaration and resolution\n",
      "federal rules of criminal procedure - rule 57. district court rules\n",
      "federal rules of evidence - rule 802. hearsay rule\n",
      "federal rules of evidence - rule 608. evidence of character and conduct of witness\n",
      "core value 6: embodies fairness-fr\n",
      "federal rules of evidence - rule 903. subscribing witness' testimony unnecessary\n",
      "hickman v. taylor, 329 u.s. 495 (1947)\n",
      "federal rules of criminal procedure - rule 14. relief from prejudicial joinder\n",
      "concurrent sentence\n",
      "federal rules of criminal procedure - rule 27. proving an official record\n",
      "basic principles on the role of lawyers\n",
      "federal rules of criminal procedure - rule 58. petty offenses and other misdemeanors\n",
      "expert and forensic evidence\n",
      "direct examination-es\n",
      "federal rules of evidence - rule 609. impeachment by evidence of conviction of crime\n",
      "community service\n",
      "contribute to the defensewiki\n",
      "right to counsel (trial)-es\n",
      "sentencing-es\n",
      "practice guides - changes and effects: 8th amendment\n",
      "rights of the accused-ru\n",
      "federal rules of criminal procedure - rule 61. title\n",
      "motions-es\n",
      "right to a fair trial-es\n",
      "trespass\n",
      "english\n",
      "pre-trial detention-es\n",
      "principles for the protection of persons with mental illness and the improvement of mental health care-fr\n",
      "scientific evidence\n",
      "principles of medical ethics relevant to the role of health personnel\n",
      "right to a speedy trial-es\n",
      "chain of custody\n",
      "el derecho a tener un abogado\n",
      "torture-ru\n",
      "guidelines on the role of prosecutors-fr\n",
      "right to habeas corpus-es\n",
      "right to impartial judge-es\n",
      "bloodstain analysis\n",
      "torture-es\n",
      "templates:reflist\n",
      "basic principles on the use of force and firearms by law enforcement officials-fr\n",
      "right to medical care in prison-es\n",
      "drug and alchohol testing\n",
      "rght to silence-es\n",
      "ex post facto punishment-es\n",
      "criminal courts\n",
      "pardon\n",
      "waiver\n",
      "test\n",
      "core values-es\n",
      "client interviews-es\n",
      "conditions of confinement-es\n",
      "core value 3: accounts for individual differences-fr\n",
      "templates:documentation\n",
      " \n",
      "criminal defense lawyers\n",
      "clemency\n",
      "reprieve\n",
      "lie detectors\n",
      "investigation-es\n",
      "right to appeal-es\n",
      "core value 4: embraces concepts of equality-es\n",
      "core value 5: is swift and communicates to detainees-es\n",
      "kadoma declaration on community service\n",
      "standards of proof-es\n",
      "relationship between defense lawyer and defendant-ru\n",
      "core value 6: embodies fairness-es\n",
      "right to compulsory process-es\n",
      "core value 7: allows for openness and public oversight-es\n",
      "right to confront witnesses-es\n",
      "core value 8: uses proportionality and reflects the goals of reformation and rehabilitation-es\n"
     ]
    }
   ],
   "execution_count": 14
  },
  {
   "metadata": {
    "ExecuteTime": {
     "end_time": "2025-05-19T12:04:31.233230Z",
     "start_time": "2025-05-19T12:04:31.229036Z"
    }
   },
   "cell_type": "code",
   "source": "save_file(filename=f\"{path_folder_defense_wiki}/defensewiki_all.jsonl\", content=dict_defensewiki_all, file_type=\"jsonl\")",
   "id": "64734724b270ff0",
   "outputs": [
    {
     "name": "stdout",
     "output_type": "stream",
     "text": [
      "Error saving file data/processed/defensewiki.ibj.org/defensewiki_all.jsonl: list indices must be integers or slices, not dict\n"
     ]
    }
   ],
   "execution_count": 24
  },
  {
   "metadata": {},
   "cell_type": "markdown",
   "source": [
    "When content is a list, record is each individual dict.\n",
    "\n",
    "Accessing content[record] assumes record is an index or key, which causes the error:\n",
    "TypeError: list indices must be integers or slices, not dict.\n",
    "\n",
    "            jsonl_file.write(json.dumps(content[record]) + \"\\n\")\n",
    "\n",
    "changed to:\n",
    "\n",
    "            jsonl_file.write(json.dumps(record, ensure_ascii=False) + \"\\n\")\n"
   ],
   "id": "61af2ee067ac8e10"
  },
  {
   "metadata": {
    "ExecuteTime": {
     "end_time": "2025-05-19T12:05:04.539562Z",
     "start_time": "2025-05-19T12:05:04.315042Z"
    }
   },
   "cell_type": "code",
   "source": [
    "filename=f\"{path_folder_defense_wiki}/defensewiki_all.jsonl\"\n",
    "with open(jsonl_filename, \"w\", encoding=\"utf-8\") as jsonl_file:\n",
    "    for record in dict_defensewiki_all:\n",
    "        jsonl_file.write(json.dumps(record, ensure_ascii=False) + \"\\n\")"
   ],
   "id": "d3d8f447066b8d3",
   "outputs": [],
   "execution_count": 25
  },
  {
   "metadata": {
    "ExecuteTime": {
     "end_time": "2025-05-19T12:05:05.940206Z",
     "start_time": "2025-05-19T12:05:05.902256Z"
    }
   },
   "cell_type": "code",
   "source": "save_file(filename=f\"{path_folder_defense_wiki}/defensewiki_no_content.json\", content=dict_defensewiki, file_type=\"json\")",
   "id": "5163b86a9fadd9e4",
   "outputs": [
    {
     "name": "stdout",
     "output_type": "stream",
     "text": [
      "File saved successfully: data/processed/defensewiki.ibj.org/defensewiki_no_content.json\n"
     ]
    }
   ],
   "execution_count": 26
  },
  {
   "metadata": {},
   "cell_type": "markdown",
   "source": "Update the chunks with country names",
   "id": "e92c0cd0cd4b3e5"
  },
  {
   "metadata": {
    "ExecuteTime": {
     "end_time": "2025-05-19T13:40:22.993507Z",
     "start_time": "2025-05-19T13:40:17.197811Z"
    }
   },
   "cell_type": "code",
   "source": [
    "# load the chunks and add countries\n",
    "path1 = \"data/processed/defensewiki.ibj.org/chunks_1.jsonl\"\n",
    "chunks = []\n",
    "for path in [path1]:\n",
    "    with open(f\"{path}\", \"r\", encoding=\"utf-8\") as jsonl_file:\n",
    "        lines = jsonl_file.readlines()  # Read all lines once\n",
    "        print(f\"Number of lines in the jsonl file {path}: {len(lines)}\")\n",
    "        for line in lines:\n",
    "            chunks.append(json.loads(line))\n",
    "        for chunk in chunks:\n",
    "            matches = [\n",
    "                d[\"country\"]\n",
    "                for d in dict_defensewiki_all[1:]\n",
    "                if d[\"title\"].strip().lower()  == chunk[\"metadata\"][\"title\"].strip().lower()\n",
    "            ]\n",
    "            chunk[\"metadata\"][\"country\"] = matches[0] if matches else \"\"\n",
    "    print(f\"Total number of chunks: {len(chunks)}\")\n",
    "\n",
    "# check we have countries\n",
    "seen_countries = set([chunk['metadata']['country'] for chunk in chunks])"
   ],
   "id": "805fa16fa82842af",
   "outputs": [
    {
     "name": "stdout",
     "output_type": "stream",
     "text": [
      "Number of lines in the jsonl file data/processed/defensewiki.ibj.org/chunks_1.jsonl: 10941\n",
      "Total number of chunks: 10941\n"
     ]
    }
   ],
   "execution_count": 64
  },
  {
   "metadata": {},
   "cell_type": "markdown",
   "source": "Check it worked",
   "id": "79f6a443f1c708b4"
  },
  {
   "metadata": {
    "ExecuteTime": {
     "end_time": "2025-05-19T13:40:31.485290Z",
     "start_time": "2025-05-19T13:40:31.480595Z"
    }
   },
   "cell_type": "code",
   "source": [
    "dict_defensewiki_all[2].keys()\n",
    "print(dict_defensewiki_all[2][\"title\"])\n",
    "print(dict_defensewiki_all[2][\"country\"])"
   ],
   "id": "a099e3461e3387f1",
   "outputs": [
    {
     "name": "stdout",
     "output_type": "stream",
     "text": [
      "singapore\n",
      "Singapore\n"
     ]
    }
   ],
   "execution_count": 65
  },
  {
   "metadata": {
    "ExecuteTime": {
     "end_time": "2025-05-19T13:40:32.521144Z",
     "start_time": "2025-05-19T13:40:32.517023Z"
    }
   },
   "cell_type": "code",
   "source": [
    "print(chunks[10][\"metadata\"][\"title\"])\n",
    "print(chunks[10][\"metadata\"][\"country\"])"
   ],
   "id": "c29e3c83881c42a7",
   "outputs": [
    {
     "name": "stdout",
     "output_type": "stream",
     "text": [
      "Singapore\n",
      "Singapore\n"
     ]
    }
   ],
   "execution_count": 66
  },
  {
   "metadata": {
    "ExecuteTime": {
     "end_time": "2025-05-19T13:41:43.247855Z",
     "start_time": "2025-05-19T13:41:42.391750Z"
    }
   },
   "cell_type": "code",
   "source": [
    "with open(\n",
    "        \"data/processed/defensewiki.ibj.org/chunks_1.json\", \"w\", encoding=\"utf-8\"\n",
    ") as file:\n",
    "    json.dump(chunks, file, indent=4)  # Save JSON content\n",
    "\n",
    "with open(\n",
    "        \"data/processed/defensewiki.ibj.org/chunks_1.jsonl\", \"w\", encoding=\"utf-8\"\n",
    ") as jsonl_file:\n",
    "    for record in chunks:\n",
    "        jsonl_file.write(json.dumps(record) + \"\\n\")\n"
   ],
   "id": "62596204b1e56931",
   "outputs": [],
   "execution_count": 70
  },
  {
   "metadata": {
    "ExecuteTime": {
     "end_time": "2025-05-19T13:42:10.963963Z",
     "start_time": "2025-05-19T13:42:10.952805Z"
    }
   },
   "cell_type": "code",
   "source": [
    "[d for d in chunks[1:] if d[\"metadata\"][\"country\"] == \"Burundi\"][1:2]\n",
    "# [d for d in dict_defensewiki_all[1:] if d[\"country\"] == \"Burundi\"]"
   ],
   "id": "c8788650f5f68cb5",
   "outputs": [
    {
     "data": {
      "text/plain": [
       "[{'title': 'e6cb3b89f3230472b811c58b6503c085bb9d5a5c1056dd0b1a63754a789ea75c',\n",
       "  'content': 'Background of Burundi\\n---------------------\\n\\nBurundi is an African country located in the Great Lakes region and is one of the six member states of the East African Community (EAC). With a total area of 27,834 km, Burundi is one of the smallest countries in Africa. Landlocked, Burundi shares borders with Tanzania to the East, the Democratic Republic of the Congo to the West, and Rwanda to the North. Burundi contains Lake Tanganyika and other smaller lakes that dot the country. The overall population density compared to the area of the land (not including the lakes) is 435 inhabitants per km2 [[1]](#cite_note-1), which is concentrated mainly in the provinces of Gitega, Kayanza, Ngozi, Kirundo, and Muyinga, making Burundi one of the most populous African countries. Burundi officially recognizes three ethnic groups: Hutu (85% of the population), Tutsi (14% of the population), and Twa (1% of the population). The cohabitation of these three ethnic groups caused tensions to rise in the past but after the Arusha Accords were signed in 2000, a much more peaceful atmosphere has existed until the recent political crises crises.\\n\\nHistorically, Burundi has experienced political crises and repeated civil wars between 1962 and 2008 that caused the deaths of more than 600,000 people. During the years of civil war following Burundi’s independence in 1962, Burundi struggled to grow economically, finally experiencing positive growth in 2005 at a rate of three to five percent. As emphasized by the World Bank, however, Burundi is still suffering the reverberations from previous wars, seeking to bandage wounds that have still not fully healed. Economic progress in Burundi is slowed by the high prices for food and oil, an energy deficit, inflation, excessive population growth, and a strong dependence on international financial aid. According to a 2019 MSN report using World Bank data, Burundi is the second poorest country in the world, behind the Central African Republic.[[2]](#cite_note-2)',\n",
       "  'metadata': {'type': 'defensewiki_doc',\n",
       "   'title': 'Burundi',\n",
       "   'link': 'https://defensewiki.ibj.org/index.php?title=Burundi',\n",
       "   'extracted': '2025-03-20 19:55:47',\n",
       "   'last-edited': '15 February 2021, 10:48',\n",
       "   'language': 'en',\n",
       "   'viewcount': 'This page has been accessed 232,258 times.',\n",
       "   'title_bis': 'defensewiki_doc.Burundi.Background of Burundi.0',\n",
       "   'section_short': 'Background of Burundi',\n",
       "   'chunk_count': 0,\n",
       "   'country': 'Burundi'}}]"
      ]
     },
     "execution_count": 72,
     "metadata": {},
     "output_type": "execute_result"
    }
   ],
   "execution_count": 72
  },
  {
   "metadata": {},
   "cell_type": "markdown",
   "source": "Change embeddings and remove duplicates ",
   "id": "cf98fe497bfd44d3"
  },
  {
   "metadata": {},
   "cell_type": "code",
   "outputs": [],
   "execution_count": null,
   "source": [
    "input_data = \"data/processed/defensewiki.ibj.org/chunks_1.json\"\n",
    "with open(input_data, \"r\", encoding=\"utf-8\") as json_file:\n",
    "    chunks = json.load(json_file)\n",
    "\n",
    "# get duplicated hashes\n",
    "titles = [chunk[\"title\"] for chunk in chunks]\n",
    "len(titles) == len(np.unique(titles))\n",
    "# len(np.unique(titles)) 10605\n",
    "# len(titles) 10941\n",
    "duplicated_hash = [item for item, count in Counter(titles).items() if count > 1]\n",
    "# get all duplicated chunks\n",
    "duplicated_chunks = [d for d in chunks if d[\"title\"] in duplicated_hash]\n",
    "len(duplicated_chunks)\n",
    "# extract pages names\n",
    "duplicated_pages_data = [\n",
    "    [\n",
    "        d[\"title\"],\n",
    "        d[\"metadata\"][\"title\"],\n",
    "        d[\"metadata\"][\"link\"],\n",
    "        d[\"metadata\"][\"title_bis\"],\n",
    "    ]\n",
    "    for d in duplicated_chunks\n",
    "]\n",
    "df_duplicates = pd.DataFrame(\n",
    "    duplicated_pages_data, columns=[\"Hash Title\", \"Page Title\", \"Link\", \"Title Bis\"]\n",
    ")\n",
    "\n",
    "output_file = \"data/interim/duplicated_hashes_and_pages.csv\"\n",
    "df_duplicates.to_csv(output_file, sep=\"\\t\", index=False)\n",
    "\n",
    "# if duplicate, only keep first hash ------------------------\n",
    "\n",
    "seen = set() # unordered and unique\n",
    "unique_chunks = []\n",
    "\n",
    "for chunk in chunks:\n",
    "    title = chunk[\"title\"]\n",
    "    if title not in seen:\n",
    "        seen.add(title)\n",
    "        unique_chunks.append(chunk)\n",
    "\n",
    "# create a new file with unique_chunks ------------------------\n",
    "\n",
    "path = \"data/processed/defensewiki.ibj.org\"\n",
    "\n",
    "# JSON Lines (one dict per line)\n",
    "with open(f\"{path}/unique_chunks.jsonl\", \"w\", encoding=\"utf-8\") as jsonl_file:\n",
    "    for chunk in unique_chunks:\n",
    "        jsonl_file.write(json.dumps(chunk) + \"\\n\")\n",
    "\n",
    "# JSON (single array of dicts)\n",
    "with open(f\"{path}/unique_chunks.json\", \"w\", encoding=\"utf-8\") as json_file:\n",
    "    json.dump(unique_chunks, json_file, ensure_ascii=False, indent=2)\n",
    "\n",
    "\n",
    "# add country (and these changes) to the collection -----------------------------------\n",
    "# In ChromaDB, embeddings and metadata are separate\n",
    "# you don’t have to re-embed your text just to update or add metadata\n",
    "\n",
    "\n",
    "client = chromadb.PersistentClient(path=path_chromadb)\n",
    "collection = client.get_or_create_collection(name=collection_name)\n",
    "\n",
    "# Group chunks by title\n",
    "title_to_chunk = defaultdict(list)\n",
    "for chunk in chunks:\n",
    "    title_to_chunk[chunk[\"title\"]].append(chunk)\n",
    "\n",
    "unique_chunks = [chunks[0] for chunks in title_to_chunk.values()]\n",
    "\n",
    "cleaned_chunks = []\n",
    "for chunk in unique_chunks:\n",
    "    country = chunk[\"metadata\"].get(\"country\", \"Unknown\")\n",
    "    chunk[\"metadata\"][\"country\"] = str(country) if country is not \"\" else \"Unknown\"\n",
    "    cleaned_chunks.append(chunk)\n",
    "\n",
    "collection.upsert(\n",
    "    ids=[chunk[\"title\"] for chunk in unique_chunks],\n",
    "    documents=[chunk[\"content\"] for chunk in cleaned_chunks],\n",
    "    metadatas=[{\"country\": chunk[\"metadata\"][\"country\"]} for chunk in cleaned_chunks],\n",
    ")\n",
    "\n",
    "valid_chunks = [\n",
    "    chunk\n",
    "    for chunk in cleaned_chunks\n",
    "    if isinstance(chunk[\"content\"], str) and chunk[\"content\"].strip() != \"\"\n",
    "]\n",
    "len(valid_chunks)\n",
    "len(cleaned_chunks)\n",
    "\n",
    "\n",
    "# # Get all the IDs from the collection\n",
    "# documents = collection.get()\n",
    "# existing_ids = [doc[\"id\"] for doc in documents[\"documents\"]]\n",
    "# len(np.unique(documents['ids'])) == len(documents['ids'])\n"
   ],
   "id": "2630466d1278277c"
  }
 ],
 "metadata": {
  "kernelspec": {
   "display_name": "Python 3",
   "language": "python",
   "name": "python3"
  },
  "language_info": {
   "codemirror_mode": {
    "name": "ipython",
    "version": 2
   },
   "file_extension": ".py",
   "mimetype": "text/x-python",
   "name": "python",
   "nbconvert_exporter": "python",
   "pygments_lexer": "ipython2",
   "version": "2.7.6"
  }
 },
 "nbformat": 4,
 "nbformat_minor": 5
}
